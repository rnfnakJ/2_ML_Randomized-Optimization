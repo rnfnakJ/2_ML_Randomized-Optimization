{
 "cells": [
  {
   "cell_type": "markdown",
   "metadata": {},
   "source": [
    "## Part1 (TSP)"
   ]
  },
  {
   "cell_type": "markdown",
   "metadata": {
    "tags": []
   },
   "source": [
    "### Set up"
   ]
  },
  {
   "cell_type": "code",
   "execution_count": 1,
   "metadata": {},
   "outputs": [
    {
     "name": "stdout",
     "output_type": "stream",
     "text": [
      "Populating the interactive namespace from numpy and matplotlib\n"
     ]
    }
   ],
   "source": [
    "%pylab inline\n",
    "import pandas as pd\n",
    "import numpy as np\n",
    "from pandas import Series, DataFrame\n",
    "import re\n",
    "import datetime as dt\n",
    "import matplotlib.pyplot as plt"
   ]
  },
  {
   "cell_type": "code",
   "execution_count": 2,
   "metadata": {},
   "outputs": [],
   "source": [
    "import time"
   ]
  },
  {
   "cell_type": "code",
   "execution_count": 3,
   "metadata": {},
   "outputs": [],
   "source": [
    "import seaborn as sns"
   ]
  },
  {
   "cell_type": "code",
   "execution_count": 4,
   "metadata": {},
   "outputs": [],
   "source": [
    "def ht(df, n = 5):\n",
    "    print(df.shape)\n",
    "    if len(df) <= 2*n:\n",
    "        display(df)\n",
    "    else:\n",
    "        display(df.head(n).append(df.tail(n)))"
   ]
  },
  {
   "cell_type": "code",
   "execution_count": 5,
   "metadata": {},
   "outputs": [],
   "source": [
    "pd.set_option('display.max_columns', 100)\n",
    "def pf(df):\n",
    "    pd.set_option('display.max_rows', len(df))\n",
    "    display(df)\n",
    "    pd.reset_option('display.max_rows')"
   ]
  },
  {
   "cell_type": "code",
   "execution_count": 6,
   "metadata": {},
   "outputs": [],
   "source": [
    "plt.style.use('seaborn')\n",
    "# plt.rcParams['figure.figsize'] = [16, 9]"
   ]
  },
  {
   "cell_type": "code",
   "execution_count": 7,
   "metadata": {},
   "outputs": [],
   "source": [
    "import six\n",
    "import sys\n",
    "sys.modules['sklearn.externals.six'] = six\n",
    "import mlrose"
   ]
  },
  {
   "cell_type": "code",
   "execution_count": 8,
   "metadata": {},
   "outputs": [],
   "source": [
    "random_seed = hash('jcha64') % (2 ** 32)"
   ]
  },
  {
   "cell_type": "code",
   "execution_count": 9,
   "metadata": {},
   "outputs": [],
   "source": [
    "random_seed_list = [199, 197, 193, 191, 181, 179, 173, 167, 163, random_seed]"
   ]
  },
  {
   "cell_type": "code",
   "execution_count": 10,
   "metadata": {},
   "outputs": [],
   "source": [
    "def RHC_HP(restarts, max_attempts, N, random_seed_list=[199, 197, 193, 191, 181, 179, 173, 167, 163, random_seed]):\n",
    "    best_fitness_list = []\n",
    "    wall_clock_time_list = []    \n",
    "    for i in range(len(random_seed_list)):\n",
    "        start = time.time()\n",
    "        best_state, best_fitness, fitness_curve = mlrose.random_hill_climb(\n",
    "            problem, \n",
    "            max_attempts=eval(max_attempts), \n",
    "            max_iters=5000, \n",
    "            restarts=eval(restarts), \n",
    "            init_state=init_state, \n",
    "            curve=True, \n",
    "            random_state=random_seed_list[i]\n",
    "        )\n",
    "        end = time.time()\n",
    "        df = DataFrame(fitness_curve)\n",
    "        df['iter'] = range(len(df))\n",
    "        df['try'] = i\n",
    "        df['hyper'] = f'restarts={restarts}, max_attempts={max_attempts}'\n",
    "        df['RO'] = 'RHC'\n",
    "        df['N'] = N\n",
    "        df.columns = ['fitness', 'iter', 'try', 'hyper', 'RO', 'N']\n",
    "        df_fitness_curve_list.append(df)\n",
    "        best_fitness_list.append(best_fitness)\n",
    "        wall_clock_time_list.append(end-start)\n",
    "    return best_fitness_list, wall_clock_time_list\n",
    "\n",
    "def SA_HP(init_temp, exp_const, max_attempts, N, random_seed_list=[199, 197, 193, 191, 181, 179, 173, 167, 163, random_seed]):\n",
    "    best_fitness_list = []\n",
    "    wall_clock_time_list = []    \n",
    "    for i in range(len(random_seed_list)):\n",
    "        start = time.time()\n",
    "        best_state, best_fitness, fitness_curve = mlrose.simulated_annealing(\n",
    "            problem, \n",
    "            schedule = mlrose.ExpDecay(init_temp = eval(init_temp), exp_const=eval(exp_const), min_temp=1e-10),\n",
    "            max_attempts = eval(max_attempts), \n",
    "            max_iters = 5000,\n",
    "            init_state = init_state, \n",
    "            random_state = random_seed_list[i], \n",
    "            curve = True\n",
    "        )\n",
    "        end = time.time()\n",
    "        df = DataFrame(fitness_curve)\n",
    "        df['iter'] = range(len(df))\n",
    "        df['try'] = i\n",
    "        df['hyper'] = f'T={init_temp},r={exp_const},max_attempts={max_attempts}'\n",
    "        df['RO'] = 'SA'\n",
    "        df['N'] = N\n",
    "        df.columns = ['fitness', 'iter', 'try', 'hyper', 'RO', 'N']\n",
    "        df_fitness_curve_list.append(df)\n",
    "        best_fitness_list.append(best_fitness)\n",
    "        wall_clock_time_list.append(end-start)\n",
    "    return best_fitness_list, wall_clock_time_list\n",
    "\n",
    "def GA_HP(pop_size, mut_prob, max_attempts, N, random_seed_list=[199, 197, 193, 191, 181, 179, 173, 167, 163, random_seed]):\n",
    "    best_fitness_list = []\n",
    "    wall_clock_time_list = []\n",
    "    for i in range(len(random_seed_list)):\n",
    "        start = time.time()\n",
    "        best_state, best_fitness, fitness_curve = mlrose.genetic_alg(\n",
    "            problem, \n",
    "            pop_size = eval(pop_size),\n",
    "            mutation_prob=eval(mut_prob), \n",
    "            max_attempts=eval(max_attempts), \n",
    "            max_iters=5000, \n",
    "            random_state = random_seed_list[i], \n",
    "            curve = True\n",
    "        )\n",
    "        end = time.time()\n",
    "        df = DataFrame(fitness_curve)\n",
    "        df['iter'] = range(len(df))\n",
    "        df['try'] = i\n",
    "        df['hyper'] = f'pop_size={pop_size},mut_prob={mut_prob},max_attempts={max_attempts}'\n",
    "        df['RO'] = 'GA'\n",
    "        df['N'] = N\n",
    "        df.columns = ['fitness', 'iter', 'try', 'hyper', 'RO', 'N']\n",
    "        df_fitness_curve_list.append(df)\n",
    "        best_fitness_list.append(best_fitness)\n",
    "        wall_clock_time_list.append(end-start)\n",
    "    return best_fitness_list, wall_clock_time_list        \n",
    "\n",
    "def MIMIC_HP(pop_size, keep_pct, max_attempts, N, random_seed_list=[199, 197, 193, 191, 181, 179, 173, 167, 163, random_seed], fast_mimic=True):\n",
    "    best_fitness_list = []\n",
    "    wall_clock_time_list = []\n",
    "    for i in range(len(random_seed_list)):\n",
    "        start = time.time()\n",
    "        best_state, best_fitness, fitness_curve = mlrose.mimic(\n",
    "            problem, \n",
    "            pop_size=eval(pop_size), \n",
    "            keep_pct=eval(keep_pct), \n",
    "            max_attempts=eval(max_attempts), \n",
    "            max_iters=5000, \n",
    "            curve=True, \n",
    "            random_state=random_seed_list[i], \n",
    "            fast_mimic=fast_mimic\n",
    "        )\n",
    "        end = time.time()\n",
    "        df = DataFrame(fitness_curve)\n",
    "        df['iter'] = range(len(df))\n",
    "        df['try'] = i\n",
    "        df['hyper'] = f'pop_size={pop_size},keep_pct={keep_pct},max_attempts={max_attempts}'\n",
    "        df['RO'] = 'MIMIC'\n",
    "        df['N'] = N\n",
    "        df.columns = ['fitness', 'iter', 'try', 'hyper', 'RO', 'N']\n",
    "        df_fitness_curve_list.append(df)\n",
    "        best_fitness_list.append(best_fitness)\n",
    "        wall_clock_time_list.append(end-start)\n",
    "    return best_fitness_list, wall_clock_time_list"
   ]
  },
  {
   "cell_type": "markdown",
   "metadata": {},
   "source": [
    "### TSP"
   ]
  },
  {
   "cell_type": "markdown",
   "metadata": {
    "tags": []
   },
   "source": [
    "#### Problem definition"
   ]
  },
  {
   "cell_type": "code",
   "execution_count": 11,
   "metadata": {},
   "outputs": [],
   "source": [
    "coords_list_base = [(1, 1), (4, 2), (5, 2), (6, 4), (4, 4), (3, 6), (1, 5), (2, 3)]\n",
    "coords_list = [(p[0]+i*10,p[1]+i*10) for i in range(4) for p in coords_list_base]\n",
    "N = len(coords_list)\n",
    "fitness = mlrose.TravellingSales(coords = coords_list)"
   ]
  },
  {
   "cell_type": "code",
   "execution_count": 12,
   "metadata": {},
   "outputs": [],
   "source": [
    "np.random.seed(random_seed_list[-1])\n",
    "init_state = np.random.permutation(N)"
   ]
  },
  {
   "cell_type": "code",
   "execution_count": 13,
   "metadata": {},
   "outputs": [
    {
     "data": {
      "text/plain": [
       "582.7856321778225"
      ]
     },
     "execution_count": 13,
     "metadata": {},
     "output_type": "execute_result"
    }
   ],
   "source": [
    "fitness.evaluate(init_state)"
   ]
  },
  {
   "cell_type": "code",
   "execution_count": 14,
   "metadata": {},
   "outputs": [],
   "source": [
    "problem = mlrose.TSPOpt(length = N, fitness_fn = fitness, maximize=False)"
   ]
  },
  {
   "cell_type": "markdown",
   "metadata": {
    "tags": []
   },
   "source": [
    "#### RHC"
   ]
  },
  {
   "cell_type": "code",
   "execution_count": 15,
   "metadata": {},
   "outputs": [],
   "source": [
    "df_fitness_curve_list = []"
   ]
  },
  {
   "cell_type": "code",
   "execution_count": 16,
   "metadata": {},
   "outputs": [
    {
     "name": "stdout",
     "output_type": "stream",
     "text": [
      "356.0521202177955\n",
      "0.033425188064575194\n"
     ]
    }
   ],
   "source": [
    "best_fitness_list, wall_clock_time_list = RHC_HP(restarts='0', max_attempts='10', N=N)\n",
    "best_fitness = sum(best_fitness_list) / len(best_fitness_list)\n",
    "print(best_fitness)\n",
    "wall_clock_time = sum(wall_clock_time_list) / len(wall_clock_time_list)\n",
    "print(wall_clock_time)"
   ]
  },
  {
   "cell_type": "code",
   "execution_count": 17,
   "metadata": {},
   "outputs": [
    {
     "name": "stdout",
     "output_type": "stream",
     "text": [
      "167.10780224479922\n",
      "0.33330161571502687\n"
     ]
    }
   ],
   "source": [
    "best_fitness_list, wall_clock_time_list = RHC_HP(restarts='0', max_attempts='100', N=N)\n",
    "best_fitness = sum(best_fitness_list) / len(best_fitness_list)\n",
    "print(best_fitness)\n",
    "wall_clock_time = sum(wall_clock_time_list) / len(wall_clock_time_list)\n",
    "print(wall_clock_time)"
   ]
  },
  {
   "cell_type": "code",
   "execution_count": 18,
   "metadata": {
    "scrolled": true
   },
   "outputs": [
    {
     "name": "stdout",
     "output_type": "stream",
     "text": [
      "(8318, 6)\n"
     ]
    },
    {
     "data": {
      "text/html": [
       "<div>\n",
       "<style scoped>\n",
       "    .dataframe tbody tr th:only-of-type {\n",
       "        vertical-align: middle;\n",
       "    }\n",
       "\n",
       "    .dataframe tbody tr th {\n",
       "        vertical-align: top;\n",
       "    }\n",
       "\n",
       "    .dataframe thead th {\n",
       "        text-align: right;\n",
       "    }\n",
       "</style>\n",
       "<table border=\"1\" class=\"dataframe\">\n",
       "  <thead>\n",
       "    <tr style=\"text-align: right;\">\n",
       "      <th></th>\n",
       "      <th>fitness</th>\n",
       "      <th>iter</th>\n",
       "      <th>try</th>\n",
       "      <th>hyper</th>\n",
       "      <th>RO</th>\n",
       "      <th>N</th>\n",
       "    </tr>\n",
       "  </thead>\n",
       "  <tbody>\n",
       "    <tr>\n",
       "      <th>0</th>\n",
       "      <td>-580.542592</td>\n",
       "      <td>0</td>\n",
       "      <td>0</td>\n",
       "      <td>restarts=0, max_attempts=10</td>\n",
       "      <td>RHC</td>\n",
       "      <td>32</td>\n",
       "    </tr>\n",
       "    <tr>\n",
       "      <th>1</th>\n",
       "      <td>-580.542592</td>\n",
       "      <td>1</td>\n",
       "      <td>0</td>\n",
       "      <td>restarts=0, max_attempts=10</td>\n",
       "      <td>RHC</td>\n",
       "      <td>32</td>\n",
       "    </tr>\n",
       "    <tr>\n",
       "      <th>2</th>\n",
       "      <td>-580.542592</td>\n",
       "      <td>2</td>\n",
       "      <td>0</td>\n",
       "      <td>restarts=0, max_attempts=10</td>\n",
       "      <td>RHC</td>\n",
       "      <td>32</td>\n",
       "    </tr>\n",
       "    <tr>\n",
       "      <th>3</th>\n",
       "      <td>-580.542592</td>\n",
       "      <td>3</td>\n",
       "      <td>0</td>\n",
       "      <td>restarts=0, max_attempts=10</td>\n",
       "      <td>RHC</td>\n",
       "      <td>32</td>\n",
       "    </tr>\n",
       "    <tr>\n",
       "      <th>4</th>\n",
       "      <td>-580.542592</td>\n",
       "      <td>4</td>\n",
       "      <td>0</td>\n",
       "      <td>restarts=0, max_attempts=10</td>\n",
       "      <td>RHC</td>\n",
       "      <td>32</td>\n",
       "    </tr>\n",
       "    <tr>\n",
       "      <th>1106</th>\n",
       "      <td>-124.398058</td>\n",
       "      <td>1106</td>\n",
       "      <td>9</td>\n",
       "      <td>restarts=0, max_attempts=100</td>\n",
       "      <td>RHC</td>\n",
       "      <td>32</td>\n",
       "    </tr>\n",
       "    <tr>\n",
       "      <th>1107</th>\n",
       "      <td>-124.398058</td>\n",
       "      <td>1107</td>\n",
       "      <td>9</td>\n",
       "      <td>restarts=0, max_attempts=100</td>\n",
       "      <td>RHC</td>\n",
       "      <td>32</td>\n",
       "    </tr>\n",
       "    <tr>\n",
       "      <th>1108</th>\n",
       "      <td>-124.398058</td>\n",
       "      <td>1108</td>\n",
       "      <td>9</td>\n",
       "      <td>restarts=0, max_attempts=100</td>\n",
       "      <td>RHC</td>\n",
       "      <td>32</td>\n",
       "    </tr>\n",
       "    <tr>\n",
       "      <th>1109</th>\n",
       "      <td>-124.398058</td>\n",
       "      <td>1109</td>\n",
       "      <td>9</td>\n",
       "      <td>restarts=0, max_attempts=100</td>\n",
       "      <td>RHC</td>\n",
       "      <td>32</td>\n",
       "    </tr>\n",
       "    <tr>\n",
       "      <th>1110</th>\n",
       "      <td>-124.398058</td>\n",
       "      <td>1110</td>\n",
       "      <td>9</td>\n",
       "      <td>restarts=0, max_attempts=100</td>\n",
       "      <td>RHC</td>\n",
       "      <td>32</td>\n",
       "    </tr>\n",
       "  </tbody>\n",
       "</table>\n",
       "</div>"
      ],
      "text/plain": [
       "         fitness  iter  try                         hyper   RO   N\n",
       "0    -580.542592     0    0   restarts=0, max_attempts=10  RHC  32\n",
       "1    -580.542592     1    0   restarts=0, max_attempts=10  RHC  32\n",
       "2    -580.542592     2    0   restarts=0, max_attempts=10  RHC  32\n",
       "3    -580.542592     3    0   restarts=0, max_attempts=10  RHC  32\n",
       "4    -580.542592     4    0   restarts=0, max_attempts=10  RHC  32\n",
       "1106 -124.398058  1106    9  restarts=0, max_attempts=100  RHC  32\n",
       "1107 -124.398058  1107    9  restarts=0, max_attempts=100  RHC  32\n",
       "1108 -124.398058  1108    9  restarts=0, max_attempts=100  RHC  32\n",
       "1109 -124.398058  1109    9  restarts=0, max_attempts=100  RHC  32\n",
       "1110 -124.398058  1110    9  restarts=0, max_attempts=100  RHC  32"
      ]
     },
     "metadata": {},
     "output_type": "display_data"
    }
   ],
   "source": [
    "df_fitness_curve = pd.concat(df_fitness_curve_list)\n",
    "ht(df_fitness_curve)"
   ]
  },
  {
   "cell_type": "code",
   "execution_count": 19,
   "metadata": {},
   "outputs": [
    {
     "data": {
      "text/plain": [
       "Text(0.5, 1.0, 'TSP RHC HP tuning')"
      ]
     },
     "execution_count": 19,
     "metadata": {},
     "output_type": "execute_result"
    },
    {
     "data": {
      "image/png": "[encoded data removed]",
      "text/plain": [
       "<Figure size 576x396 with 1 Axes>"
      ]
     },
     "metadata": {},
     "output_type": "display_data"
    }
   ],
   "source": [
    "sns.lineplot(data=df_fitness_curve.reset_index(), x=\"iter\", y=\"fitness\", hue=\"hyper\", ci=None).set_title('TSP RHC HP tuning')"
   ]
  },
  {
   "cell_type": "markdown",
   "metadata": {
    "jp-MarkdownHeadingCollapsed": true,
    "tags": []
   },
   "source": [
    "#### SA"
   ]
  },
  {
   "cell_type": "code",
   "execution_count": null,
   "metadata": {},
   "outputs": [],
   "source": [
    "df_fitness_curve_list = []"
   ]
  },
  {
   "cell_type": "code",
   "execution_count": null,
   "metadata": {},
   "outputs": [],
   "source": [
    "best_fitness_list, wall_clock_time_list = SA_HP(init_temp='1e10', exp_const='0.999', max_attempts='10', N=N)\n",
    "best_fitness = sum(best_fitness_list) / len(best_fitness_list)\n",
    "print(best_fitness)\n",
    "wall_clock_time = sum(wall_clock_time_list) / len(wall_clock_time_list)\n",
    "print(wall_clock_time)"
   ]
  },
  {
   "cell_type": "code",
   "execution_count": null,
   "metadata": {},
   "outputs": [],
   "source": [
    "best_fitness_list, wall_clock_time_list = SA_HP(init_temp='1e10', exp_const='0.5', max_attempts='10', N=N)\n",
    "best_fitness = sum(best_fitness_list) / len(best_fitness_list)\n",
    "print(best_fitness)\n",
    "wall_clock_time = sum(wall_clock_time_list) / len(wall_clock_time_list)\n",
    "print(wall_clock_time)"
   ]
  },
  {
   "cell_type": "code",
   "execution_count": 23,
   "metadata": {},
   "outputs": [
    {
     "name": "stdout",
     "output_type": "stream",
     "text": [
      "349.35002999644655\n",
      "0.0438018798828125\n"
     ]
    }
   ],
   "source": [
    "best_fitness_list, wall_clock_time_list = SA_HP(init_temp='1e5', exp_const='0.999', max_attempts='10', N=N)\n",
    "best_fitness = sum(best_fitness_list) / len(best_fitness_list)\n",
    "print(best_fitness)\n",
    "wall_clock_time = sum(wall_clock_time_list) / len(wall_clock_time_list)\n",
    "print(wall_clock_time)"
   ]
  },
  {
   "cell_type": "code",
   "execution_count": 24,
   "metadata": {},
   "outputs": [
    {
     "name": "stdout",
     "output_type": "stream",
     "text": [
      "378.15301431649266\n",
      "0.048122310638427736\n"
     ]
    }
   ],
   "source": [
    "best_fitness_list, wall_clock_time_list = SA_HP(init_temp='1e5', exp_const='0.5', max_attempts='10', N=N)\n",
    "best_fitness = sum(best_fitness_list) / len(best_fitness_list)\n",
    "print(best_fitness)\n",
    "wall_clock_time = sum(wall_clock_time_list) / len(wall_clock_time_list)\n",
    "print(wall_clock_time)"
   ]
  },
  {
   "cell_type": "code",
   "execution_count": 25,
   "metadata": {
    "scrolled": true
   },
   "outputs": [
    {
     "name": "stdout",
     "output_type": "stream",
     "text": [
      "(3365, 6)\n"
     ]
    },
    {
     "data": {
      "text/html": [
       "<div>\n",
       "<style scoped>\n",
       "    .dataframe tbody tr th:only-of-type {\n",
       "        vertical-align: middle;\n",
       "    }\n",
       "\n",
       "    .dataframe tbody tr th {\n",
       "        vertical-align: top;\n",
       "    }\n",
       "\n",
       "    .dataframe thead th {\n",
       "        text-align: right;\n",
       "    }\n",
       "</style>\n",
       "<table border=\"1\" class=\"dataframe\">\n",
       "  <thead>\n",
       "    <tr style=\"text-align: right;\">\n",
       "      <th></th>\n",
       "      <th>fitness</th>\n",
       "      <th>iter</th>\n",
       "      <th>try</th>\n",
       "      <th>hyper</th>\n",
       "      <th>RO</th>\n",
       "      <th>N</th>\n",
       "    </tr>\n",
       "  </thead>\n",
       "  <tbody>\n",
       "    <tr>\n",
       "      <th>0</th>\n",
       "      <td>-580.542592</td>\n",
       "      <td>0</td>\n",
       "      <td>0</td>\n",
       "      <td>T=1e10,r=0.999,max_attempts=10</td>\n",
       "      <td>SA</td>\n",
       "      <td>32</td>\n",
       "    </tr>\n",
       "    <tr>\n",
       "      <th>1</th>\n",
       "      <td>-659.233615</td>\n",
       "      <td>1</td>\n",
       "      <td>0</td>\n",
       "      <td>T=1e10,r=0.999,max_attempts=10</td>\n",
       "      <td>SA</td>\n",
       "      <td>32</td>\n",
       "    </tr>\n",
       "    <tr>\n",
       "      <th>2</th>\n",
       "      <td>-665.670497</td>\n",
       "      <td>2</td>\n",
       "      <td>0</td>\n",
       "      <td>T=1e10,r=0.999,max_attempts=10</td>\n",
       "      <td>SA</td>\n",
       "      <td>32</td>\n",
       "    </tr>\n",
       "    <tr>\n",
       "      <th>3</th>\n",
       "      <td>-648.366758</td>\n",
       "      <td>3</td>\n",
       "      <td>0</td>\n",
       "      <td>T=1e10,r=0.999,max_attempts=10</td>\n",
       "      <td>SA</td>\n",
       "      <td>32</td>\n",
       "    </tr>\n",
       "    <tr>\n",
       "      <th>4</th>\n",
       "      <td>-642.814829</td>\n",
       "      <td>4</td>\n",
       "      <td>0</td>\n",
       "      <td>T=1e10,r=0.999,max_attempts=10</td>\n",
       "      <td>SA</td>\n",
       "      <td>32</td>\n",
       "    </tr>\n",
       "    <tr>\n",
       "      <th>77</th>\n",
       "      <td>-330.857215</td>\n",
       "      <td>77</td>\n",
       "      <td>9</td>\n",
       "      <td>T=1e5,r=0.5,max_attempts=10</td>\n",
       "      <td>SA</td>\n",
       "      <td>32</td>\n",
       "    </tr>\n",
       "    <tr>\n",
       "      <th>78</th>\n",
       "      <td>-330.857215</td>\n",
       "      <td>78</td>\n",
       "      <td>9</td>\n",
       "      <td>T=1e5,r=0.5,max_attempts=10</td>\n",
       "      <td>SA</td>\n",
       "      <td>32</td>\n",
       "    </tr>\n",
       "    <tr>\n",
       "      <th>79</th>\n",
       "      <td>-330.857215</td>\n",
       "      <td>79</td>\n",
       "      <td>9</td>\n",
       "      <td>T=1e5,r=0.5,max_attempts=10</td>\n",
       "      <td>SA</td>\n",
       "      <td>32</td>\n",
       "    </tr>\n",
       "    <tr>\n",
       "      <th>80</th>\n",
       "      <td>-330.857215</td>\n",
       "      <td>80</td>\n",
       "      <td>9</td>\n",
       "      <td>T=1e5,r=0.5,max_attempts=10</td>\n",
       "      <td>SA</td>\n",
       "      <td>32</td>\n",
       "    </tr>\n",
       "    <tr>\n",
       "      <th>81</th>\n",
       "      <td>-330.857215</td>\n",
       "      <td>81</td>\n",
       "      <td>9</td>\n",
       "      <td>T=1e5,r=0.5,max_attempts=10</td>\n",
       "      <td>SA</td>\n",
       "      <td>32</td>\n",
       "    </tr>\n",
       "  </tbody>\n",
       "</table>\n",
       "</div>"
      ],
      "text/plain": [
       "       fitness  iter  try                           hyper  RO   N\n",
       "0  -580.542592     0    0  T=1e10,r=0.999,max_attempts=10  SA  32\n",
       "1  -659.233615     1    0  T=1e10,r=0.999,max_attempts=10  SA  32\n",
       "2  -665.670497     2    0  T=1e10,r=0.999,max_attempts=10  SA  32\n",
       "3  -648.366758     3    0  T=1e10,r=0.999,max_attempts=10  SA  32\n",
       "4  -642.814829     4    0  T=1e10,r=0.999,max_attempts=10  SA  32\n",
       "77 -330.857215    77    9     T=1e5,r=0.5,max_attempts=10  SA  32\n",
       "78 -330.857215    78    9     T=1e5,r=0.5,max_attempts=10  SA  32\n",
       "79 -330.857215    79    9     T=1e5,r=0.5,max_attempts=10  SA  32\n",
       "80 -330.857215    80    9     T=1e5,r=0.5,max_attempts=10  SA  32\n",
       "81 -330.857215    81    9     T=1e5,r=0.5,max_attempts=10  SA  32"
      ]
     },
     "metadata": {},
     "output_type": "display_data"
    }
   ],
   "source": [
    "df_fitness_curve = pd.concat(df_fitness_curve_list)\n",
    "ht(df_fitness_curve)"
   ]
  },
  {
   "cell_type": "code",
   "execution_count": 26,
   "metadata": {},
   "outputs": [
    {
     "data": {
      "text/plain": [
       "Text(0.5, 1.0, 'TSP SA HP tuning')"
      ]
     },
     "execution_count": 26,
     "metadata": {},
     "output_type": "execute_result"
    },
    {
     "data": {
      "image/png": "[encoded data removed]",
      "text/plain": [
       "<Figure size 576x396 with 1 Axes>"
      ]
     },
     "metadata": {},
     "output_type": "display_data"
    }
   ],
   "source": [
    "sns.lineplot(data=df_fitness_curve.reset_index(), x=\"iter\", y=\"fitness\", hue=\"hyper\", ci=None).set_title('TSP SA HP tuning')"
   ]
  },
  {
   "cell_type": "markdown",
   "metadata": {
    "tags": []
   },
   "source": [
    "#### MIMIC"
   ]
  },
  {
   "cell_type": "code",
   "execution_count": 27,
   "metadata": {},
   "outputs": [
    {
     "name": "stdout",
     "output_type": "stream",
     "text": [
      "452.739324545077\n",
      "4.801288175582886\n"
     ]
    }
   ],
   "source": [
    "best_fitness_list, wall_clock_time_list = MIMIC_HP(pop_size='100', keep_pct='0.01', max_attempts='10', N=N)\n",
    "best_fitness = sum(best_fitness_list) / len(best_fitness_list)\n",
    "print(best_fitness)\n",
    "wall_clock_time = sum(wall_clock_time_list) / len(wall_clock_time_list)\n",
    "print(wall_clock_time)"
   ]
  },
  {
   "cell_type": "code",
   "execution_count": 28,
   "metadata": {},
   "outputs": [
    {
     "name": "stdout",
     "output_type": "stream",
     "text": [
      "452.739324545077\n",
      "4.822001433372497\n"
     ]
    }
   ],
   "source": [
    "best_fitness_list, wall_clock_time_list = MIMIC_HP(pop_size='100', keep_pct='0.02', max_attempts='10', N=N)\n",
    "best_fitness = sum(best_fitness_list) / len(best_fitness_list)\n",
    "print(best_fitness)\n",
    "wall_clock_time = sum(wall_clock_time_list) / len(wall_clock_time_list)\n",
    "print(wall_clock_time)"
   ]
  },
  {
   "cell_type": "code",
   "execution_count": 29,
   "metadata": {},
   "outputs": [
    {
     "name": "stdout",
     "output_type": "stream",
     "text": [
      "429.15342161645106\n",
      "4.9704447984695435\n"
     ]
    }
   ],
   "source": [
    "best_fitness_list, wall_clock_time_list = MIMIC_HP(pop_size='100', keep_pct='0.04', max_attempts='10', N=N)\n",
    "best_fitness = sum(best_fitness_list) / len(best_fitness_list)\n",
    "print(best_fitness)\n",
    "wall_clock_time = sum(wall_clock_time_list) / len(wall_clock_time_list)\n",
    "print(wall_clock_time)"
   ]
  },
  {
   "cell_type": "code",
   "execution_count": 30,
   "metadata": {},
   "outputs": [
    {
     "name": "stdout",
     "output_type": "stream",
     "text": [
      "(3701, 6)\n"
     ]
    },
    {
     "data": {
      "text/html": [
       "<div>\n",
       "<style scoped>\n",
       "    .dataframe tbody tr th:only-of-type {\n",
       "        vertical-align: middle;\n",
       "    }\n",
       "\n",
       "    .dataframe tbody tr th {\n",
       "        vertical-align: top;\n",
       "    }\n",
       "\n",
       "    .dataframe thead th {\n",
       "        text-align: right;\n",
       "    }\n",
       "</style>\n",
       "<table border=\"1\" class=\"dataframe\">\n",
       "  <thead>\n",
       "    <tr style=\"text-align: right;\">\n",
       "      <th></th>\n",
       "      <th>fitness</th>\n",
       "      <th>iter</th>\n",
       "      <th>try</th>\n",
       "      <th>hyper</th>\n",
       "      <th>RO</th>\n",
       "      <th>N</th>\n",
       "    </tr>\n",
       "  </thead>\n",
       "  <tbody>\n",
       "    <tr>\n",
       "      <th>0</th>\n",
       "      <td>-580.542592</td>\n",
       "      <td>0</td>\n",
       "      <td>0</td>\n",
       "      <td>T=1e10,r=0.999,max_attempts=10</td>\n",
       "      <td>SA</td>\n",
       "      <td>32</td>\n",
       "    </tr>\n",
       "    <tr>\n",
       "      <th>1</th>\n",
       "      <td>-659.233615</td>\n",
       "      <td>1</td>\n",
       "      <td>0</td>\n",
       "      <td>T=1e10,r=0.999,max_attempts=10</td>\n",
       "      <td>SA</td>\n",
       "      <td>32</td>\n",
       "    </tr>\n",
       "    <tr>\n",
       "      <th>2</th>\n",
       "      <td>-665.670497</td>\n",
       "      <td>2</td>\n",
       "      <td>0</td>\n",
       "      <td>T=1e10,r=0.999,max_attempts=10</td>\n",
       "      <td>SA</td>\n",
       "      <td>32</td>\n",
       "    </tr>\n",
       "    <tr>\n",
       "      <th>3</th>\n",
       "      <td>-648.366758</td>\n",
       "      <td>3</td>\n",
       "      <td>0</td>\n",
       "      <td>T=1e10,r=0.999,max_attempts=10</td>\n",
       "      <td>SA</td>\n",
       "      <td>32</td>\n",
       "    </tr>\n",
       "    <tr>\n",
       "      <th>4</th>\n",
       "      <td>-642.814829</td>\n",
       "      <td>4</td>\n",
       "      <td>0</td>\n",
       "      <td>T=1e10,r=0.999,max_attempts=10</td>\n",
       "      <td>SA</td>\n",
       "      <td>32</td>\n",
       "    </tr>\n",
       "    <tr>\n",
       "      <th>9</th>\n",
       "      <td>-325.550961</td>\n",
       "      <td>9</td>\n",
       "      <td>9</td>\n",
       "      <td>pop_size=100,keep_pct=0.04,max_attempts=10</td>\n",
       "      <td>MIMIC</td>\n",
       "      <td>32</td>\n",
       "    </tr>\n",
       "    <tr>\n",
       "      <th>10</th>\n",
       "      <td>-325.550961</td>\n",
       "      <td>10</td>\n",
       "      <td>9</td>\n",
       "      <td>pop_size=100,keep_pct=0.04,max_attempts=10</td>\n",
       "      <td>MIMIC</td>\n",
       "      <td>32</td>\n",
       "    </tr>\n",
       "    <tr>\n",
       "      <th>11</th>\n",
       "      <td>-325.550961</td>\n",
       "      <td>11</td>\n",
       "      <td>9</td>\n",
       "      <td>pop_size=100,keep_pct=0.04,max_attempts=10</td>\n",
       "      <td>MIMIC</td>\n",
       "      <td>32</td>\n",
       "    </tr>\n",
       "    <tr>\n",
       "      <th>12</th>\n",
       "      <td>-325.550961</td>\n",
       "      <td>12</td>\n",
       "      <td>9</td>\n",
       "      <td>pop_size=100,keep_pct=0.04,max_attempts=10</td>\n",
       "      <td>MIMIC</td>\n",
       "      <td>32</td>\n",
       "    </tr>\n",
       "    <tr>\n",
       "      <th>13</th>\n",
       "      <td>-325.550961</td>\n",
       "      <td>13</td>\n",
       "      <td>9</td>\n",
       "      <td>pop_size=100,keep_pct=0.04,max_attempts=10</td>\n",
       "      <td>MIMIC</td>\n",
       "      <td>32</td>\n",
       "    </tr>\n",
       "  </tbody>\n",
       "</table>\n",
       "</div>"
      ],
      "text/plain": [
       "       fitness  iter  try                                       hyper     RO  \\\n",
       "0  -580.542592     0    0              T=1e10,r=0.999,max_attempts=10     SA   \n",
       "1  -659.233615     1    0              T=1e10,r=0.999,max_attempts=10     SA   \n",
       "2  -665.670497     2    0              T=1e10,r=0.999,max_attempts=10     SA   \n",
       "3  -648.366758     3    0              T=1e10,r=0.999,max_attempts=10     SA   \n",
       "4  -642.814829     4    0              T=1e10,r=0.999,max_attempts=10     SA   \n",
       "9  -325.550961     9    9  pop_size=100,keep_pct=0.04,max_attempts=10  MIMIC   \n",
       "10 -325.550961    10    9  pop_size=100,keep_pct=0.04,max_attempts=10  MIMIC   \n",
       "11 -325.550961    11    9  pop_size=100,keep_pct=0.04,max_attempts=10  MIMIC   \n",
       "12 -325.550961    12    9  pop_size=100,keep_pct=0.04,max_attempts=10  MIMIC   \n",
       "13 -325.550961    13    9  pop_size=100,keep_pct=0.04,max_attempts=10  MIMIC   \n",
       "\n",
       "     N  \n",
       "0   32  \n",
       "1   32  \n",
       "2   32  \n",
       "3   32  \n",
       "4   32  \n",
       "9   32  \n",
       "10  32  \n",
       "11  32  \n",
       "12  32  \n",
       "13  32  "
      ]
     },
     "metadata": {},
     "output_type": "display_data"
    }
   ],
   "source": [
    "df_fitness_curve = pd.concat(df_fitness_curve_list)\n",
    "ht(df_fitness_curve)"
   ]
  },
  {
   "cell_type": "code",
   "execution_count": 31,
   "metadata": {},
   "outputs": [
    {
     "data": {
      "text/plain": [
       "Text(0.5, 1.0, 'TSP MIMIC HP tuning')"
      ]
     },
     "execution_count": 31,
     "metadata": {},
     "output_type": "execute_result"
    },
    {
     "data": {
      "image/png": "[encoded data removed]",
      "text/plain": [
       "<Figure size 576x396 with 1 Axes>"
      ]
     },
     "metadata": {},
     "output_type": "display_data"
    }
   ],
   "source": [
    "sns.lineplot(data=df_fitness_curve.reset_index(), x=\"iter\", y=\"fitness\", hue=\"hyper\", ci=None).set_title('TSP MIMIC HP tuning')"
   ]
  },
  {
   "cell_type": "code",
   "execution_count": null,
   "metadata": {},
   "outputs": [],
   "source": [
    "df_fitness_curve_list = []"
   ]
  },
  {
   "cell_type": "code",
   "execution_count": null,
   "metadata": {},
   "outputs": [],
   "source": [
    "best_fitness_list, wall_clock_time_list = MIMIC_HP(pop_size='100', keep_pct='0.1', max_attempts='10', N=N, random_seed_list=[random_seed_list[-1]], fast_mimic=False)\n",
    "best_fitness = sum(best_fitness_list) / len(best_fitness_list)\n",
    "print(best_fitness)\n",
    "wall_clock_time = sum(wall_clock_time_list) / len(wall_clock_time_list)\n",
    "print(wall_clock_time)"
   ]
  },
  {
   "cell_type": "code",
   "execution_count": null,
   "metadata": {},
   "outputs": [],
   "source": [
    "best_fitness_list, wall_clock_time_list = MIMIC_HP(pop_size='300', keep_pct='0.05', max_attempts='10', N=N, random_seed_list=[random_seed_list[-1]], fast_mimic=False)\n",
    "best_fitness = sum(best_fitness_list) / len(best_fitness_list)\n",
    "print(best_fitness)\n",
    "wall_clock_time = sum(wall_clock_time_list) / len(wall_clock_time_list)\n",
    "print(wall_clock_time)"
   ]
  },
  {
   "cell_type": "code",
   "execution_count": null,
   "metadata": {},
   "outputs": [],
   "source": [
    "best_fitness_list, wall_clock_time_list = MIMIC_HP(pop_size='200', keep_pct='0.01', max_attempts='10', N=N, random_seed_list=[random_seed_list[-1]], fast_mimic=False)\n",
    "best_fitness = sum(best_fitness_list) / len(best_fitness_list)\n",
    "print(best_fitness)\n",
    "wall_clock_time = sum(wall_clock_time_list) / len(wall_clock_time_list)\n",
    "print(wall_clock_time)"
   ]
  },
  {
   "cell_type": "code",
   "execution_count": null,
   "metadata": {},
   "outputs": [],
   "source": [
    "best_fitness_list, wall_clock_time_list = MIMIC_HP(pop_size='150', keep_pct='0.1', max_attempts='10', N=N, random_seed_list=[random_seed_list[-1]], fast_mimic=False)\n",
    "best_fitness = sum(best_fitness_list) / len(best_fitness_list)\n",
    "print(best_fitness)\n",
    "wall_clock_time = sum(wall_clock_time_list) / len(wall_clock_time_list)\n",
    "print(wall_clock_time)"
   ]
  },
  {
   "cell_type": "code",
   "execution_count": null,
   "metadata": {
    "scrolled": true
   },
   "outputs": [],
   "source": [
    "df_fitness_curve = pd.concat(df_fitness_curve_list)\n",
    "ht(df_fitness_curve)"
   ]
  },
  {
   "cell_type": "code",
   "execution_count": null,
   "metadata": {},
   "outputs": [],
   "source": [
    "sns.lineplot(data=df_fitness_curve.reset_index(), x=\"iter\", y=\"fitness\", hue=\"hyper\", ci=None).set_title('TSP MIMIC HP tuning')"
   ]
  },
  {
   "cell_type": "markdown",
   "metadata": {
    "tags": []
   },
   "source": [
    "#### GA"
   ]
  },
  {
   "cell_type": "code",
   "execution_count": 39,
   "metadata": {},
   "outputs": [],
   "source": [
    "df_fitness_curve_list = []"
   ]
  },
  {
   "cell_type": "code",
   "execution_count": 40,
   "metadata": {},
   "outputs": [
    {
     "name": "stdout",
     "output_type": "stream",
     "text": [
      "414.6707331261011\n",
      "1.4716408252716064\n"
     ]
    }
   ],
   "source": [
    "best_fitness_list, wall_clock_time_list = GA_HP(pop_size='200', mut_prob='0.1', max_attempts='10', N=N, random_seed_list=[random_seed_list[-1]])\n",
    "best_fitness = sum(best_fitness_list) / len(best_fitness_list)\n",
    "print(best_fitness)\n",
    "wall_clock_time = sum(wall_clock_time_list) / len(wall_clock_time_list)\n",
    "print(wall_clock_time)"
   ]
  },
  {
   "cell_type": "code",
   "execution_count": 41,
   "metadata": {},
   "outputs": [
    {
     "name": "stdout",
     "output_type": "stream",
     "text": [
      "403.2107071760029\n",
      "1.482252836227417\n"
     ]
    }
   ],
   "source": [
    "best_fitness_list, wall_clock_time_list = GA_HP(pop_size='200', mut_prob='0.2', max_attempts='10', N=N, random_seed_list=[random_seed_list[-1]])\n",
    "best_fitness = sum(best_fitness_list) / len(best_fitness_list)\n",
    "print(best_fitness)\n",
    "wall_clock_time = sum(wall_clock_time_list) / len(wall_clock_time_list)\n",
    "print(wall_clock_time)"
   ]
  },
  {
   "cell_type": "code",
   "execution_count": 42,
   "metadata": {},
   "outputs": [
    {
     "name": "stdout",
     "output_type": "stream",
     "text": [
      "(22, 6)\n"
     ]
    },
    {
     "data": {
      "text/html": [
       "<div>\n",
       "<style scoped>\n",
       "    .dataframe tbody tr th:only-of-type {\n",
       "        vertical-align: middle;\n",
       "    }\n",
       "\n",
       "    .dataframe tbody tr th {\n",
       "        vertical-align: top;\n",
       "    }\n",
       "\n",
       "    .dataframe thead th {\n",
       "        text-align: right;\n",
       "    }\n",
       "</style>\n",
       "<table border=\"1\" class=\"dataframe\">\n",
       "  <thead>\n",
       "    <tr style=\"text-align: right;\">\n",
       "      <th></th>\n",
       "      <th>fitness</th>\n",
       "      <th>iter</th>\n",
       "      <th>try</th>\n",
       "      <th>hyper</th>\n",
       "      <th>RO</th>\n",
       "      <th>N</th>\n",
       "    </tr>\n",
       "  </thead>\n",
       "  <tbody>\n",
       "    <tr>\n",
       "      <th>0</th>\n",
       "      <td>-414.670733</td>\n",
       "      <td>0</td>\n",
       "      <td>0</td>\n",
       "      <td>pop_size=200,mut_prob=0.1,max_attempts=10</td>\n",
       "      <td>GA</td>\n",
       "      <td>32</td>\n",
       "    </tr>\n",
       "    <tr>\n",
       "      <th>1</th>\n",
       "      <td>-414.670733</td>\n",
       "      <td>1</td>\n",
       "      <td>0</td>\n",
       "      <td>pop_size=200,mut_prob=0.1,max_attempts=10</td>\n",
       "      <td>GA</td>\n",
       "      <td>32</td>\n",
       "    </tr>\n",
       "    <tr>\n",
       "      <th>2</th>\n",
       "      <td>-414.670733</td>\n",
       "      <td>2</td>\n",
       "      <td>0</td>\n",
       "      <td>pop_size=200,mut_prob=0.1,max_attempts=10</td>\n",
       "      <td>GA</td>\n",
       "      <td>32</td>\n",
       "    </tr>\n",
       "    <tr>\n",
       "      <th>3</th>\n",
       "      <td>-414.670733</td>\n",
       "      <td>3</td>\n",
       "      <td>0</td>\n",
       "      <td>pop_size=200,mut_prob=0.1,max_attempts=10</td>\n",
       "      <td>GA</td>\n",
       "      <td>32</td>\n",
       "    </tr>\n",
       "    <tr>\n",
       "      <th>4</th>\n",
       "      <td>-414.670733</td>\n",
       "      <td>4</td>\n",
       "      <td>0</td>\n",
       "      <td>pop_size=200,mut_prob=0.1,max_attempts=10</td>\n",
       "      <td>GA</td>\n",
       "      <td>32</td>\n",
       "    </tr>\n",
       "    <tr>\n",
       "      <th>6</th>\n",
       "      <td>-403.210707</td>\n",
       "      <td>6</td>\n",
       "      <td>0</td>\n",
       "      <td>pop_size=200,mut_prob=0.2,max_attempts=10</td>\n",
       "      <td>GA</td>\n",
       "      <td>32</td>\n",
       "    </tr>\n",
       "    <tr>\n",
       "      <th>7</th>\n",
       "      <td>-403.210707</td>\n",
       "      <td>7</td>\n",
       "      <td>0</td>\n",
       "      <td>pop_size=200,mut_prob=0.2,max_attempts=10</td>\n",
       "      <td>GA</td>\n",
       "      <td>32</td>\n",
       "    </tr>\n",
       "    <tr>\n",
       "      <th>8</th>\n",
       "      <td>-403.210707</td>\n",
       "      <td>8</td>\n",
       "      <td>0</td>\n",
       "      <td>pop_size=200,mut_prob=0.2,max_attempts=10</td>\n",
       "      <td>GA</td>\n",
       "      <td>32</td>\n",
       "    </tr>\n",
       "    <tr>\n",
       "      <th>9</th>\n",
       "      <td>-403.210707</td>\n",
       "      <td>9</td>\n",
       "      <td>0</td>\n",
       "      <td>pop_size=200,mut_prob=0.2,max_attempts=10</td>\n",
       "      <td>GA</td>\n",
       "      <td>32</td>\n",
       "    </tr>\n",
       "    <tr>\n",
       "      <th>10</th>\n",
       "      <td>-403.210707</td>\n",
       "      <td>10</td>\n",
       "      <td>0</td>\n",
       "      <td>pop_size=200,mut_prob=0.2,max_attempts=10</td>\n",
       "      <td>GA</td>\n",
       "      <td>32</td>\n",
       "    </tr>\n",
       "  </tbody>\n",
       "</table>\n",
       "</div>"
      ],
      "text/plain": [
       "       fitness  iter  try                                      hyper  RO   N\n",
       "0  -414.670733     0    0  pop_size=200,mut_prob=0.1,max_attempts=10  GA  32\n",
       "1  -414.670733     1    0  pop_size=200,mut_prob=0.1,max_attempts=10  GA  32\n",
       "2  -414.670733     2    0  pop_size=200,mut_prob=0.1,max_attempts=10  GA  32\n",
       "3  -414.670733     3    0  pop_size=200,mut_prob=0.1,max_attempts=10  GA  32\n",
       "4  -414.670733     4    0  pop_size=200,mut_prob=0.1,max_attempts=10  GA  32\n",
       "6  -403.210707     6    0  pop_size=200,mut_prob=0.2,max_attempts=10  GA  32\n",
       "7  -403.210707     7    0  pop_size=200,mut_prob=0.2,max_attempts=10  GA  32\n",
       "8  -403.210707     8    0  pop_size=200,mut_prob=0.2,max_attempts=10  GA  32\n",
       "9  -403.210707     9    0  pop_size=200,mut_prob=0.2,max_attempts=10  GA  32\n",
       "10 -403.210707    10    0  pop_size=200,mut_prob=0.2,max_attempts=10  GA  32"
      ]
     },
     "metadata": {},
     "output_type": "display_data"
    }
   ],
   "source": [
    "df_fitness_curve = pd.concat(df_fitness_curve_list)\n",
    "ht(df_fitness_curve)"
   ]
  },
  {
   "cell_type": "code",
   "execution_count": 43,
   "metadata": {},
   "outputs": [
    {
     "data": {
      "text/plain": [
       "Text(0.5, 1.0, 'TSP GA HP tuning')"
      ]
     },
     "execution_count": 43,
     "metadata": {},
     "output_type": "execute_result"
    },
    {
     "data": {
      "image/png": "[encoded data removed]",
      "text/plain": [
       "<Figure size 576x396 with 1 Axes>"
      ]
     },
     "metadata": {},
     "output_type": "display_data"
    }
   ],
   "source": [
    "sns.lineplot(data=df_fitness_curve.reset_index(), x=\"iter\", y=\"fitness\", hue=\"hyper\", ci=None).set_title('TSP GA HP tuning')"
   ]
  },
  {
   "cell_type": "code",
   "execution_count": null,
   "metadata": {},
   "outputs": [],
   "source": [
    "best_fitness_list, wall_clock_time_list = GA_HP(pop_size='600', mut_prob='0.2', max_attempts='10', N=N, random_seed_list=[random_seed_list[-1]])\n",
    "best_fitness = sum(best_fitness_list) / len(best_fitness_list)\n",
    "print(best_fitness)\n",
    "wall_clock_time = sum(wall_clock_time_list) / len(wall_clock_time_list)\n",
    "print(wall_clock_time)"
   ]
  },
  {
   "cell_type": "code",
   "execution_count": null,
   "metadata": {},
   "outputs": [],
   "source": [
    "best_fitness_list, wall_clock_time_list = GA_HP(pop_size='600', mut_prob='0.3', max_attempts='10', N=N, random_seed_list=[random_seed_list[-1]])\n",
    "best_fitness = sum(best_fitness_list) / len(best_fitness_list)\n",
    "print(best_fitness)\n",
    "wall_clock_time = sum(wall_clock_time_list) / len(wall_clock_time_list)\n",
    "print(wall_clock_time)"
   ]
  },
  {
   "cell_type": "code",
   "execution_count": null,
   "metadata": {
    "scrolled": true
   },
   "outputs": [],
   "source": [
    "df_fitness_curve = pd.concat(df_fitness_curve_list)\n",
    "ht(df_fitness_curve)"
   ]
  },
  {
   "cell_type": "code",
   "execution_count": null,
   "metadata": {},
   "outputs": [],
   "source": [
    "sns.lineplot(data=df_fitness_curve.reset_index(), x=\"iter\", y=\"fitness\", hue=\"hyper\", ci=None).set_title('TSP GA HP tuning')"
   ]
  },
  {
   "cell_type": "markdown",
   "metadata": {
    "tags": []
   },
   "source": [
    "#### Problem Size"
   ]
  },
  {
   "cell_type": "code",
   "execution_count": 48,
   "metadata": {},
   "outputs": [],
   "source": [
    "df_fitness_curve_list = []\n",
    "df_result_list = []"
   ]
  },
  {
   "cell_type": "code",
   "execution_count": 49,
   "metadata": {
    "scrolled": true
   },
   "outputs": [
    {
     "name": "stdout",
     "output_type": "stream",
     "text": [
      "N 8\n",
      "RHC\n",
      "21.056437875944724\n",
      "0.0034387826919555662\n",
      "SA\n",
      "20.39057380511059\n",
      "0.006334733963012695\n",
      "GA\n"
     ]
    },
    {
     "name": "stderr",
     "output_type": "stream",
     "text": [
      "/home/ceres-v2/miniconda3/envs/AI/lib/python3.9/site-packages/mlrose/algorithms.py:311: RuntimeWarning: overflow encountered in exp\n",
      "  prob = np.exp(delta_e/temp)\n"
     ]
    },
    {
     "name": "stdout",
     "output_type": "stream",
     "text": [
      "17.342617547667327\n",
      "3.4865989685058594\n",
      "MIMIC\n",
      "19.195036913004508\n",
      "2.450308084487915\n",
      "N 16\n",
      "RHC\n",
      "84.9111957937299\n",
      "0.011412787437438964\n",
      "SA\n"
     ]
    },
    {
     "name": "stderr",
     "output_type": "stream",
     "text": [
      "/home/ceres-v2/miniconda3/envs/AI/lib/python3.9/site-packages/mlrose/algorithms.py:311: RuntimeWarning: overflow encountered in exp\n",
      "  prob = np.exp(delta_e/temp)\n"
     ]
    },
    {
     "name": "stdout",
     "output_type": "stream",
     "text": [
      "88.48652094641828\n",
      "0.015540528297424316\n",
      "GA\n",
      "71.19305043539245\n",
      "2.6173481941223145\n",
      "MIMIC\n",
      "72.12848478493879\n",
      "5.565044641494751\n",
      "N 24\n",
      "RHC\n",
      "216.86643908585967\n",
      "0.020037221908569335\n",
      "SA\n"
     ]
    },
    {
     "name": "stderr",
     "output_type": "stream",
     "text": [
      "/home/ceres-v2/miniconda3/envs/AI/lib/python3.9/site-packages/mlrose/algorithms.py:311: RuntimeWarning: overflow encountered in exp\n",
      "  prob = np.exp(delta_e/temp)\n"
     ]
    },
    {
     "name": "stdout",
     "output_type": "stream",
     "text": [
      "190.47752531799787\n",
      "0.031339383125305174\n",
      "GA\n",
      "189.43752370223837\n",
      "6.656919479370117\n",
      "MIMIC\n",
      "205.040012572871\n",
      "9.488606452941895\n",
      "N 32\n",
      "RHC\n",
      "356.0521202177955\n",
      "0.029909491539001465\n",
      "SA\n"
     ]
    },
    {
     "name": "stderr",
     "output_type": "stream",
     "text": [
      "/home/ceres-v2/miniconda3/envs/AI/lib/python3.9/site-packages/mlrose/algorithms.py:311: RuntimeWarning: overflow encountered in exp\n",
      "  prob = np.exp(delta_e/temp)\n"
     ]
    },
    {
     "name": "stdout",
     "output_type": "stream",
     "text": [
      "349.35002999644655\n",
      "0.04452695846557617\n",
      "GA\n",
      "323.5527122963063\n",
      "5.2678611278533936\n",
      "MIMIC\n",
      "380.72144741654455\n",
      "14.388428926467896\n"
     ]
    }
   ],
   "source": [
    "# for N in [20, 40, 50, 80]:   \n",
    "#     print('N', N)\n",
    "#     np.random.seed(random_seed_list[-1])\n",
    "#     coords_list = []\n",
    "#     for i in range(N):\n",
    "#         coords_list.append((np.random.rand(), np.random.rand()))\n",
    "#     fitness = mlrose.TravellingSales(coords = coords_list)\n",
    "\n",
    "for n in [1,2,3,4]:\n",
    "# for n in [1,2,4,6]:\n",
    "# for n in [3]:\n",
    "    np.random.seed(random_seed_list[-1])\n",
    "    coords_list_base = [(1, 1), (4, 2), (5, 2), (6, 4), (4, 4), (3, 6), (1, 5), (2, 3)]\n",
    "    coords_list = [(p[0]+i*10,p[1]+i*10) for i in range(n) for p in coords_list_base]\n",
    "    N = len(coords_list)\n",
    "    fitness = mlrose.TravellingSales(coords = coords_list)    \n",
    "    init_state = np.random.permutation(N)\n",
    "    problem = mlrose.TSPOpt(length = N, fitness_fn = fitness, maximize=False)\n",
    "    print('N', N)\n",
    "    \n",
    "    print('RHC')\n",
    "    best_fitness_list, wall_clock_time_list = RHC_HP(restarts='0', max_attempts='10', N=N)\n",
    "    best_fitness = sum(best_fitness_list) / len(best_fitness_list)\n",
    "    print(best_fitness)\n",
    "    wall_clock_time = sum(wall_clock_time_list) / len(wall_clock_time_list)\n",
    "    print(wall_clock_time)    \n",
    "    df_fitness_curve = pd.concat(df_fitness_curve_list)\n",
    "    df_result_list.append(DataFrame({'RO': 'RHC', 'N': N, 'best_fitness': best_fitness, 'wall_clock_time': wall_clock_time, 'max_iter': df_fitness_curve[(df_fitness_curve['RO']=='RHC')&(df_fitness_curve['N']==N)].groupby('try')['iter'].max().mean()}, index=['N']))\n",
    "    \n",
    "    print('SA')\n",
    "    best_fitness_list, wall_clock_time_list = SA_HP(init_temp='1e5', exp_const='0.999', max_attempts='10', N=N)\n",
    "    best_fitness = sum(best_fitness_list) / len(best_fitness_list)\n",
    "    print(best_fitness)\n",
    "    wall_clock_time = sum(wall_clock_time_list) / len(wall_clock_time_list)\n",
    "    print(wall_clock_time)\n",
    "    df_fitness_curve = pd.concat(df_fitness_curve_list)\n",
    "    df_result_list.append(DataFrame({'RO': 'SA', 'N': N, 'best_fitness': best_fitness, 'wall_clock_time': wall_clock_time, 'max_iter': df_fitness_curve[(df_fitness_curve['RO']=='SA')&(df_fitness_curve['N']==N)].groupby('try')['iter'].max().mean()}, index=['N']))\n",
    "    \n",
    "    print('GA')\n",
    "    best_fitness_list, wall_clock_time_list = GA_HP(pop_size='600', mut_prob='0.3', max_attempts='10', N=N, random_seed_list=[random_seed])\n",
    "    best_fitness = sum(best_fitness_list) / len(best_fitness_list)\n",
    "    print(best_fitness)\n",
    "    wall_clock_time = sum(wall_clock_time_list) / len(wall_clock_time_list)\n",
    "    print(wall_clock_time)\n",
    "    df_fitness_curve = pd.concat(df_fitness_curve_list)\n",
    "    df_result_list.append(DataFrame({'RO': 'GA', 'N': N, 'best_fitness': best_fitness, 'wall_clock_time': wall_clock_time, 'max_iter': df_fitness_curve[(df_fitness_curve['RO']=='GA')&(df_fitness_curve['N']==N)].groupby('try')['iter'].max().mean()}, index=['N']))\n",
    "    \n",
    "    print('MIMIC')\n",
    "    best_fitness_list, wall_clock_time_list = MIMIC_HP(pop_size='300', keep_pct='0.05', max_attempts='10', N=N, random_seed_list=[random_seed], fast_mimic=False)\n",
    "    best_fitness = sum(best_fitness_list) / len(best_fitness_list)\n",
    "    print(best_fitness)\n",
    "    wall_clock_time = sum(wall_clock_time_list) / len(wall_clock_time_list)\n",
    "    print(wall_clock_time)\n",
    "    df_fitness_curve = pd.concat(df_fitness_curve_list)\n",
    "    df_result_list.append(DataFrame({'RO': 'MIMIC', 'N': N, 'best_fitness': best_fitness, 'wall_clock_time': wall_clock_time, 'max_iter': df_fitness_curve[(df_fitness_curve['RO']=='MIMIC')&(df_fitness_curve['N']==N)].groupby('try')['iter'].max().mean()}, index=['N']))"
   ]
  },
  {
   "cell_type": "code",
   "execution_count": 50,
   "metadata": {},
   "outputs": [
    {
     "data": {
      "text/plain": [
       "Text(0.5, 1.0, 'TSP 4 ROs N=32')"
      ]
     },
     "execution_count": 50,
     "metadata": {},
     "output_type": "execute_result"
    },
    {
     "data": {
      "image/png": "[encoded data removed]",
      "text/plain": [
       "<Figure size 576x396 with 1 Axes>"
      ]
     },
     "metadata": {},
     "output_type": "display_data"
    }
   ],
   "source": [
    "sns.lineplot(data=df_fitness_curve[df_fitness_curve['N']==32].reset_index(), x=\"iter\", y=\"fitness\", hue=\"RO\", ci=None).set_title('TSP 4 ROs N=32')"
   ]
  },
  {
   "cell_type": "code",
   "execution_count": 51,
   "metadata": {},
   "outputs": [],
   "source": [
    "df_result = pd.concat(df_result_list)\n",
    "df_result['best_fitness'] = 1 / df_result['best_fitness']"
   ]
  },
  {
   "cell_type": "code",
   "execution_count": 52,
   "metadata": {},
   "outputs": [
    {
     "data": {
      "image/png": "[encoded data removed]",
      "text/plain": [
       "<Figure size 576x396 with 1 Axes>"
      ]
     },
     "metadata": {},
     "output_type": "display_data"
    }
   ],
   "source": [
    "ax = sns.lineplot(data=df_result.reset_index(), x=\"N\", y=\"best_fitness\", hue=\"RO\", marker='o')\n",
    "ax.set(yscale='log')\n",
    "ax.set_title('TSP fitness V.S. size')\n",
    "plt.show();"
   ]
  },
  {
   "cell_type": "code",
   "execution_count": 53,
   "metadata": {},
   "outputs": [
    {
     "data": {
      "image/png": "[encoded data removed]",
      "text/plain": [
       "<Figure size 576x396 with 1 Axes>"
      ]
     },
     "metadata": {},
     "output_type": "display_data"
    }
   ],
   "source": [
    "ax = sns.lineplot(data=df_result.reset_index(), x=\"N\", y=\"wall_clock_time\", hue=\"RO\", marker='o')\n",
    "# ax.set(yscale='log')\n",
    "ax.set_title('TSP wall_time V.S. size')\n",
    "plt.show();"
   ]
  },
  {
   "cell_type": "code",
   "execution_count": 54,
   "metadata": {},
   "outputs": [
    {
     "data": {
      "image/png": "[encoded data removed]",
      "text/plain": [
       "<Figure size 576x396 with 1 Axes>"
      ]
     },
     "metadata": {},
     "output_type": "display_data"
    }
   ],
   "source": [
    "ax = sns.lineplot(data=df_result.reset_index(), x=\"N\", y=\"max_iter\", hue=\"RO\", marker='o')\n",
    "# ax.set(yscale='log')\n",
    "ax.set_title('TSP function_eval V.S. size')\n",
    "plt.show();"
   ]
  },
  {
   "cell_type": "code",
   "execution_count": null,
   "metadata": {},
   "outputs": [],
   "source": []
  }
 ],
 "metadata": {
  "kernelspec": {
   "display_name": "Python 3 (ipykernel)",
   "language": "python",
   "name": "python3"
  },
  "language_info": {
   "codemirror_mode": {
    "name": "ipython",
    "version": 3
   },
   "file_extension": ".py",
   "mimetype": "text/x-python",
   "name": "python",
   "nbconvert_exporter": "python",
   "pygments_lexer": "ipython3",
   "version": "3.9.7"
  }
 },
 "nbformat": 4,
 "nbformat_minor": 4
}
