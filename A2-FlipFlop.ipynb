{
 "cells": [
  {
   "cell_type": "markdown",
   "metadata": {},
   "source": [
    "## Part1 (FlipFlop)"
   ]
  },
  {
   "cell_type": "markdown",
   "metadata": {
    "tags": []
   },
   "source": [
    "### Setup"
   ]
  },
  {
   "cell_type": "code",
   "execution_count": 1,
   "metadata": {},
   "outputs": [
    {
     "name": "stdout",
     "output_type": "stream",
     "text": [
      "Populating the interactive namespace from numpy and matplotlib\n"
     ]
    }
   ],
   "source": [
    "%pylab inline\n",
    "import pandas as pd\n",
    "import numpy as np\n",
    "from pandas import Series, DataFrame\n",
    "import re\n",
    "import datetime as dt\n",
    "import matplotlib.pyplot as plt"
   ]
  },
  {
   "cell_type": "code",
   "execution_count": 2,
   "metadata": {},
   "outputs": [],
   "source": [
    "import time"
   ]
  },
  {
   "cell_type": "code",
   "execution_count": 3,
   "metadata": {},
   "outputs": [],
   "source": [
    "import seaborn as sns"
   ]
  },
  {
   "cell_type": "code",
   "execution_count": 4,
   "metadata": {},
   "outputs": [],
   "source": [
    "def ht(df, n = 5):\n",
    "    print(df.shape)\n",
    "    if len(df) <= 2*n:\n",
    "        display(df)\n",
    "    else:\n",
    "        display(df.head(n).append(df.tail(n)))"
   ]
  },
  {
   "cell_type": "code",
   "execution_count": 5,
   "metadata": {},
   "outputs": [],
   "source": [
    "pd.set_option('display.max_columns', 100)\n",
    "def pf(df):\n",
    "    pd.set_option('display.max_rows', len(df))\n",
    "    display(df)\n",
    "    pd.reset_option('display.max_rows')"
   ]
  },
  {
   "cell_type": "code",
   "execution_count": 6,
   "metadata": {},
   "outputs": [],
   "source": [
    "plt.style.use('seaborn')\n",
    "# plt.rcParams['figure.figsize'] = [16, 9]"
   ]
  },
  {
   "cell_type": "code",
   "execution_count": 7,
   "metadata": {},
   "outputs": [],
   "source": [
    "import six\n",
    "import sys\n",
    "sys.modules['sklearn.externals.six'] = six\n",
    "import mlrose"
   ]
  },
  {
   "cell_type": "code",
   "execution_count": 8,
   "metadata": {},
   "outputs": [],
   "source": [
    "random_seed = hash('jcha64') % (2 ** 32)"
   ]
  },
  {
   "cell_type": "code",
   "execution_count": 9,
   "metadata": {},
   "outputs": [],
   "source": [
    "random_seed_list = [199, 197, 193, 191, 181, 179, 173, 167, 163, random_seed]"
   ]
  },
  {
   "cell_type": "code",
   "execution_count": 10,
   "metadata": {},
   "outputs": [],
   "source": [
    "def RHC_HP(restarts, max_attempts, N, random_seed_list=[199, 197, 193, 191, 181, 179, 173, 167, 163, random_seed]):\n",
    "    best_fitness_list = []\n",
    "    wall_clock_time_list = []    \n",
    "    for i in range(len(random_seed_list)):\n",
    "        start = time.time()\n",
    "        best_state, best_fitness, fitness_curve = mlrose.random_hill_climb(\n",
    "            problem, \n",
    "            max_attempts=eval(max_attempts), \n",
    "            max_iters=5000, \n",
    "            restarts=eval(restarts), \n",
    "            init_state=init_state, \n",
    "            curve=True, \n",
    "            random_state=random_seed_list[i]\n",
    "        )\n",
    "        end = time.time()\n",
    "        df = DataFrame(fitness_curve)\n",
    "        df['iter'] = range(len(df))\n",
    "        df['try'] = i\n",
    "        df['hyper'] = f'restarts={restarts}, max_attempts={max_attempts}'\n",
    "        df['RO'] = 'RHC'\n",
    "        df['N'] = N\n",
    "        df.columns = ['fitness', 'iter', 'try', 'hyper', 'RO', 'N']\n",
    "        df_fitness_curve_list.append(df)\n",
    "        best_fitness_list.append(best_fitness)\n",
    "        wall_clock_time_list.append(end-start)\n",
    "    return best_fitness_list, wall_clock_time_list\n",
    "\n",
    "def SA_HP(init_temp, exp_const, max_attempts, N, random_seed_list=[199, 197, 193, 191, 181, 179, 173, 167, 163, random_seed]):\n",
    "    best_fitness_list = []\n",
    "    wall_clock_time_list = []    \n",
    "    for i in range(len(random_seed_list)):\n",
    "        start = time.time()\n",
    "        best_state, best_fitness, fitness_curve = mlrose.simulated_annealing(\n",
    "            problem, \n",
    "            schedule = mlrose.ExpDecay(init_temp = eval(init_temp), exp_const=eval(exp_const), min_temp=1e-10),\n",
    "            max_attempts = eval(max_attempts), \n",
    "            max_iters = 5000,\n",
    "            init_state = init_state, \n",
    "            random_state = random_seed_list[i], \n",
    "            curve = True\n",
    "        )\n",
    "        end = time.time()\n",
    "        df = DataFrame(fitness_curve)\n",
    "        df['iter'] = range(len(df))\n",
    "        df['try'] = i\n",
    "        df['hyper'] = f'T={init_temp},r={exp_const},max_attempts={max_attempts}'\n",
    "        df['RO'] = 'SA'\n",
    "        df['N'] = N\n",
    "        df.columns = ['fitness', 'iter', 'try', 'hyper', 'RO', 'N']\n",
    "        df_fitness_curve_list.append(df)\n",
    "        best_fitness_list.append(best_fitness)\n",
    "        wall_clock_time_list.append(end-start)\n",
    "    return best_fitness_list, wall_clock_time_list\n",
    "\n",
    "def GA_HP(pop_size, mut_prob, max_attempts, N, random_seed_list=[199, 197, 193, 191, 181, 179, 173, 167, 163, random_seed]):\n",
    "    best_fitness_list = []\n",
    "    wall_clock_time_list = []\n",
    "    for i in range(len(random_seed_list)):\n",
    "        start = time.time()\n",
    "        best_state, best_fitness, fitness_curve = mlrose.genetic_alg(\n",
    "            problem, \n",
    "            pop_size = eval(pop_size),\n",
    "            mutation_prob=eval(mut_prob), \n",
    "            max_attempts=eval(max_attempts), \n",
    "            max_iters=5000, \n",
    "            random_state = random_seed_list[i], \n",
    "            curve = True\n",
    "        )\n",
    "        end = time.time()\n",
    "        df = DataFrame(fitness_curve)\n",
    "        df['iter'] = range(len(df))\n",
    "        df['try'] = i\n",
    "        df['hyper'] = f'pop_size={pop_size},mut_prob={mut_prob},max_attempts={max_attempts}'\n",
    "        df['RO'] = 'GA'\n",
    "        df['N'] = N\n",
    "        df.columns = ['fitness', 'iter', 'try', 'hyper', 'RO', 'N']\n",
    "        df_fitness_curve_list.append(df)\n",
    "        best_fitness_list.append(best_fitness)\n",
    "        wall_clock_time_list.append(end-start)\n",
    "    return best_fitness_list, wall_clock_time_list        \n",
    "\n",
    "def MIMIC_HP(pop_size, keep_pct, max_attempts, N, random_seed_list=[199, 197, 193, 191, 181, 179, 173, 167, 163, random_seed], fast_mimic=True):\n",
    "    best_fitness_list = []\n",
    "    wall_clock_time_list = []\n",
    "    for i in range(len(random_seed_list)):\n",
    "        start = time.time()\n",
    "        best_state, best_fitness, fitness_curve = mlrose.mimic(\n",
    "            problem, \n",
    "            pop_size=eval(pop_size), \n",
    "            keep_pct=eval(keep_pct), \n",
    "            max_attempts=eval(max_attempts), \n",
    "            max_iters=5000, \n",
    "            curve=True, \n",
    "            random_state=random_seed_list[i], \n",
    "            fast_mimic=fast_mimic\n",
    "        )\n",
    "        end = time.time()\n",
    "        df = DataFrame(fitness_curve)\n",
    "        df['iter'] = range(len(df))\n",
    "        df['try'] = i\n",
    "        df['hyper'] = f'pop_size={pop_size},keep_pct={keep_pct},max_attempts={max_attempts}'\n",
    "        df['RO'] = 'MIMIC'\n",
    "        df['N'] = N\n",
    "        df.columns = ['fitness', 'iter', 'try', 'hyper', 'RO', 'N']\n",
    "        df_fitness_curve_list.append(df)\n",
    "        best_fitness_list.append(best_fitness)\n",
    "        wall_clock_time_list.append(end-start)\n",
    "    return best_fitness_list, wall_clock_time_list"
   ]
  },
  {
   "cell_type": "markdown",
   "metadata": {
    "tags": []
   },
   "source": [
    "### FlipFlop"
   ]
  },
  {
   "cell_type": "markdown",
   "metadata": {
    "jp-MarkdownHeadingCollapsed": true,
    "tags": []
   },
   "source": [
    "#### Problem definition"
   ]
  },
  {
   "cell_type": "code",
   "execution_count": 11,
   "metadata": {
    "tags": []
   },
   "outputs": [],
   "source": [
    "N = 800"
   ]
  },
  {
   "cell_type": "code",
   "execution_count": 12,
   "metadata": {},
   "outputs": [],
   "source": [
    "fitness = mlrose.FlipFlop()"
   ]
  },
  {
   "cell_type": "code",
   "execution_count": 13,
   "metadata": {
    "tags": []
   },
   "outputs": [],
   "source": [
    "np.random.seed(random_seed_list[-1])\n",
    "init_state = np.random.randint(low = 0, high = 2, size = N)"
   ]
  },
  {
   "cell_type": "code",
   "execution_count": 14,
   "metadata": {},
   "outputs": [
    {
     "data": {
      "text/plain": [
       "402"
      ]
     },
     "execution_count": 14,
     "metadata": {},
     "output_type": "execute_result"
    }
   ],
   "source": [
    "fitness.evaluate(init_state)"
   ]
  },
  {
   "cell_type": "code",
   "execution_count": 15,
   "metadata": {},
   "outputs": [],
   "source": [
    "problem = mlrose.DiscreteOpt(length = N, fitness_fn = fitness, maximize = True, max_val = 2)"
   ]
  },
  {
   "cell_type": "markdown",
   "metadata": {
    "jp-MarkdownHeadingCollapsed": true,
    "tags": []
   },
   "source": [
    "#### RHC"
   ]
  },
  {
   "cell_type": "code",
   "execution_count": 16,
   "metadata": {
    "tags": []
   },
   "outputs": [],
   "source": [
    "df_fitness_curve_list = []"
   ]
  },
  {
   "cell_type": "code",
   "execution_count": 17,
   "metadata": {},
   "outputs": [
    {
     "name": "stdout",
     "output_type": "stream",
     "text": [
      "421.9\n",
      "0.014924836158752442\n"
     ]
    }
   ],
   "source": [
    "best_fitness_list, wall_clock_time_list = RHC_HP(restarts='0', max_attempts='10', N=N)\n",
    "best_fitness = sum(best_fitness_list) / len(best_fitness_list)\n",
    "print(best_fitness)\n",
    "wall_clock_time = sum(wall_clock_time_list) / len(wall_clock_time_list)\n",
    "print(wall_clock_time)"
   ]
  },
  {
   "cell_type": "code",
   "execution_count": 18,
   "metadata": {},
   "outputs": [
    {
     "name": "stdout",
     "output_type": "stream",
     "text": [
      "631.1\n",
      "0.4010506868362427\n"
     ]
    }
   ],
   "source": [
    "best_fitness_list, wall_clock_time_list = RHC_HP(restarts='0', max_attempts='100', N=N)\n",
    "best_fitness = sum(best_fitness_list) / len(best_fitness_list)\n",
    "print(best_fitness)\n",
    "wall_clock_time = sum(wall_clock_time_list) / len(wall_clock_time_list)\n",
    "print(wall_clock_time)"
   ]
  },
  {
   "cell_type": "code",
   "execution_count": 19,
   "metadata": {
    "scrolled": true
   },
   "outputs": [
    {
     "name": "stdout",
     "output_type": "stream",
     "text": [
      "(13742, 6)\n"
     ]
    },
    {
     "data": {
      "text/html": [
       "<div>\n",
       "<style scoped>\n",
       "    .dataframe tbody tr th:only-of-type {\n",
       "        vertical-align: middle;\n",
       "    }\n",
       "\n",
       "    .dataframe tbody tr th {\n",
       "        vertical-align: top;\n",
       "    }\n",
       "\n",
       "    .dataframe thead th {\n",
       "        text-align: right;\n",
       "    }\n",
       "</style>\n",
       "<table border=\"1\" class=\"dataframe\">\n",
       "  <thead>\n",
       "    <tr style=\"text-align: right;\">\n",
       "      <th></th>\n",
       "      <th>fitness</th>\n",
       "      <th>iter</th>\n",
       "      <th>try</th>\n",
       "      <th>hyper</th>\n",
       "      <th>RO</th>\n",
       "      <th>N</th>\n",
       "    </tr>\n",
       "  </thead>\n",
       "  <tbody>\n",
       "    <tr>\n",
       "      <th>0</th>\n",
       "      <td>404.0</td>\n",
       "      <td>0</td>\n",
       "      <td>0</td>\n",
       "      <td>restarts=0, max_attempts=10</td>\n",
       "      <td>RHC</td>\n",
       "      <td>800</td>\n",
       "    </tr>\n",
       "    <tr>\n",
       "      <th>1</th>\n",
       "      <td>404.0</td>\n",
       "      <td>1</td>\n",
       "      <td>0</td>\n",
       "      <td>restarts=0, max_attempts=10</td>\n",
       "      <td>RHC</td>\n",
       "      <td>800</td>\n",
       "    </tr>\n",
       "    <tr>\n",
       "      <th>2</th>\n",
       "      <td>404.0</td>\n",
       "      <td>2</td>\n",
       "      <td>0</td>\n",
       "      <td>restarts=0, max_attempts=10</td>\n",
       "      <td>RHC</td>\n",
       "      <td>800</td>\n",
       "    </tr>\n",
       "    <tr>\n",
       "      <th>3</th>\n",
       "      <td>404.0</td>\n",
       "      <td>3</td>\n",
       "      <td>0</td>\n",
       "      <td>restarts=0, max_attempts=10</td>\n",
       "      <td>RHC</td>\n",
       "      <td>800</td>\n",
       "    </tr>\n",
       "    <tr>\n",
       "      <th>4</th>\n",
       "      <td>406.0</td>\n",
       "      <td>4</td>\n",
       "      <td>0</td>\n",
       "      <td>restarts=0, max_attempts=10</td>\n",
       "      <td>RHC</td>\n",
       "      <td>800</td>\n",
       "    </tr>\n",
       "    <tr>\n",
       "      <th>1542</th>\n",
       "      <td>646.0</td>\n",
       "      <td>1542</td>\n",
       "      <td>9</td>\n",
       "      <td>restarts=0, max_attempts=100</td>\n",
       "      <td>RHC</td>\n",
       "      <td>800</td>\n",
       "    </tr>\n",
       "    <tr>\n",
       "      <th>1543</th>\n",
       "      <td>646.0</td>\n",
       "      <td>1543</td>\n",
       "      <td>9</td>\n",
       "      <td>restarts=0, max_attempts=100</td>\n",
       "      <td>RHC</td>\n",
       "      <td>800</td>\n",
       "    </tr>\n",
       "    <tr>\n",
       "      <th>1544</th>\n",
       "      <td>646.0</td>\n",
       "      <td>1544</td>\n",
       "      <td>9</td>\n",
       "      <td>restarts=0, max_attempts=100</td>\n",
       "      <td>RHC</td>\n",
       "      <td>800</td>\n",
       "    </tr>\n",
       "    <tr>\n",
       "      <th>1545</th>\n",
       "      <td>646.0</td>\n",
       "      <td>1545</td>\n",
       "      <td>9</td>\n",
       "      <td>restarts=0, max_attempts=100</td>\n",
       "      <td>RHC</td>\n",
       "      <td>800</td>\n",
       "    </tr>\n",
       "    <tr>\n",
       "      <th>1546</th>\n",
       "      <td>646.0</td>\n",
       "      <td>1546</td>\n",
       "      <td>9</td>\n",
       "      <td>restarts=0, max_attempts=100</td>\n",
       "      <td>RHC</td>\n",
       "      <td>800</td>\n",
       "    </tr>\n",
       "  </tbody>\n",
       "</table>\n",
       "</div>"
      ],
      "text/plain": [
       "      fitness  iter  try                         hyper   RO    N\n",
       "0       404.0     0    0   restarts=0, max_attempts=10  RHC  800\n",
       "1       404.0     1    0   restarts=0, max_attempts=10  RHC  800\n",
       "2       404.0     2    0   restarts=0, max_attempts=10  RHC  800\n",
       "3       404.0     3    0   restarts=0, max_attempts=10  RHC  800\n",
       "4       406.0     4    0   restarts=0, max_attempts=10  RHC  800\n",
       "1542    646.0  1542    9  restarts=0, max_attempts=100  RHC  800\n",
       "1543    646.0  1543    9  restarts=0, max_attempts=100  RHC  800\n",
       "1544    646.0  1544    9  restarts=0, max_attempts=100  RHC  800\n",
       "1545    646.0  1545    9  restarts=0, max_attempts=100  RHC  800\n",
       "1546    646.0  1546    9  restarts=0, max_attempts=100  RHC  800"
      ]
     },
     "metadata": {},
     "output_type": "display_data"
    }
   ],
   "source": [
    "df_fitness_curve = pd.concat(df_fitness_curve_list)\n",
    "ht(df_fitness_curve)"
   ]
  },
  {
   "cell_type": "code",
   "execution_count": 20,
   "metadata": {},
   "outputs": [
    {
     "data": {
      "text/plain": [
       "Text(0.5, 1.0, 'FlipFlop RHC HP tuning')"
      ]
     },
     "execution_count": 20,
     "metadata": {},
     "output_type": "execute_result"
    },
    {
     "data": {
      "image/png": "[encoded data removed]",
      "text/plain": [
       "<Figure size 576x396 with 1 Axes>"
      ]
     },
     "metadata": {},
     "output_type": "display_data"
    }
   ],
   "source": [
    "sns.lineplot(data=df_fitness_curve.reset_index(), x=\"iter\", y=\"fitness\", hue=\"hyper\").set_title('FlipFlop RHC HP tuning')"
   ]
  },
  {
   "cell_type": "markdown",
   "metadata": {
    "tags": []
   },
   "source": [
    "#### SA"
   ]
  },
  {
   "cell_type": "code",
   "execution_count": 21,
   "metadata": {},
   "outputs": [],
   "source": [
    "df_fitness_curve_list = []"
   ]
  },
  {
   "cell_type": "code",
   "execution_count": 22,
   "metadata": {},
   "outputs": [
    {
     "name": "stderr",
     "output_type": "stream",
     "text": [
      "/home/ceres-v2/miniconda3/envs/AI/lib/python3.9/site-packages/mlrose/algorithms.py:311: RuntimeWarning: overflow encountered in exp\n",
      "  prob = np.exp(delta_e/temp)\n"
     ]
    },
    {
     "name": "stdout",
     "output_type": "stream",
     "text": [
      "629.8\n",
      "0.6880817890167237\n"
     ]
    }
   ],
   "source": [
    "# T=1e1,r=0.005,max_attempts=10\n",
    "best_fitness_list, wall_clock_time_list = SA_HP(init_temp='1e1', exp_const='0.005', max_attempts='10', N=N)\n",
    "best_fitness = sum(best_fitness_list) / len(best_fitness_list)\n",
    "print(best_fitness)\n",
    "wall_clock_time = sum(wall_clock_time_list) / len(wall_clock_time_list)\n",
    "print(wall_clock_time)"
   ]
  },
  {
   "cell_type": "code",
   "execution_count": 23,
   "metadata": {},
   "outputs": [
    {
     "name": "stdout",
     "output_type": "stream",
     "text": [
      "610.9\n",
      "0.8636469125747681\n"
     ]
    }
   ],
   "source": [
    "# T=1e1,r=0.005,max_attempts=10\n",
    "best_fitness_list, wall_clock_time_list = SA_HP(init_temp='1e2', exp_const='0.005', max_attempts='10', N=N)\n",
    "best_fitness = sum(best_fitness_list) / len(best_fitness_list)\n",
    "print(best_fitness)\n",
    "wall_clock_time = sum(wall_clock_time_list) / len(wall_clock_time_list)\n",
    "print(wall_clock_time)"
   ]
  },
  {
   "cell_type": "code",
   "execution_count": 24,
   "metadata": {},
   "outputs": [
    {
     "name": "stdout",
     "output_type": "stream",
     "text": [
      "636.6\n",
      "0.5873090028762817\n"
     ]
    }
   ],
   "source": [
    "# T=1e1,r=0.005,max_attempts=10\n",
    "best_fitness_list, wall_clock_time_list = SA_HP(init_temp='1e2', exp_const='0.05', max_attempts='10', N=N)\n",
    "best_fitness = sum(best_fitness_list) / len(best_fitness_list)\n",
    "print(best_fitness)\n",
    "wall_clock_time = sum(wall_clock_time_list) / len(wall_clock_time_list)\n",
    "print(wall_clock_time)"
   ]
  },
  {
   "cell_type": "code",
   "execution_count": 25,
   "metadata": {},
   "outputs": [
    {
     "name": "stdout",
     "output_type": "stream",
     "text": [
      "607.0\n",
      "1.5895208597183228\n"
     ]
    }
   ],
   "source": [
    "# T=1e1,r=0.005,max_attempts=10\n",
    "best_fitness_list, wall_clock_time_list = SA_HP(init_temp='1e5', exp_const='0.005', max_attempts='10', N=N)\n",
    "best_fitness = sum(best_fitness_list) / len(best_fitness_list)\n",
    "print(best_fitness)\n",
    "wall_clock_time = sum(wall_clock_time_list) / len(wall_clock_time_list)\n",
    "print(wall_clock_time)"
   ]
  },
  {
   "cell_type": "code",
   "execution_count": 26,
   "metadata": {},
   "outputs": [
    {
     "name": "stdout",
     "output_type": "stream",
     "text": [
      "577.3\n",
      "2.561972904205322\n"
     ]
    }
   ],
   "source": [
    "# T=1e1,r=0.005,max_attempts=10\n",
    "best_fitness_list, wall_clock_time_list = SA_HP(init_temp='1e2', exp_const='0.001', max_attempts='10', N=N)\n",
    "best_fitness = sum(best_fitness_list) / len(best_fitness_list)\n",
    "print(best_fitness)\n",
    "wall_clock_time = sum(wall_clock_time_list) / len(wall_clock_time_list)\n",
    "print(wall_clock_time)"
   ]
  },
  {
   "cell_type": "code",
   "execution_count": 27,
   "metadata": {
    "scrolled": true
   },
   "outputs": [
    {
     "name": "stdout",
     "output_type": "stream",
     "text": [
      "(128804, 6)\n"
     ]
    },
    {
     "data": {
      "text/html": [
       "<div>\n",
       "<style scoped>\n",
       "    .dataframe tbody tr th:only-of-type {\n",
       "        vertical-align: middle;\n",
       "    }\n",
       "\n",
       "    .dataframe tbody tr th {\n",
       "        vertical-align: top;\n",
       "    }\n",
       "\n",
       "    .dataframe thead th {\n",
       "        text-align: right;\n",
       "    }\n",
       "</style>\n",
       "<table border=\"1\" class=\"dataframe\">\n",
       "  <thead>\n",
       "    <tr style=\"text-align: right;\">\n",
       "      <th></th>\n",
       "      <th>fitness</th>\n",
       "      <th>iter</th>\n",
       "      <th>try</th>\n",
       "      <th>hyper</th>\n",
       "      <th>RO</th>\n",
       "      <th>N</th>\n",
       "    </tr>\n",
       "  </thead>\n",
       "  <tbody>\n",
       "    <tr>\n",
       "      <th>0</th>\n",
       "      <td>404.0</td>\n",
       "      <td>0</td>\n",
       "      <td>0</td>\n",
       "      <td>T=1e1,r=0.005,max_attempts=10</td>\n",
       "      <td>SA</td>\n",
       "      <td>800</td>\n",
       "    </tr>\n",
       "    <tr>\n",
       "      <th>1</th>\n",
       "      <td>404.0</td>\n",
       "      <td>1</td>\n",
       "      <td>0</td>\n",
       "      <td>T=1e1,r=0.005,max_attempts=10</td>\n",
       "      <td>SA</td>\n",
       "      <td>800</td>\n",
       "    </tr>\n",
       "    <tr>\n",
       "      <th>2</th>\n",
       "      <td>406.0</td>\n",
       "      <td>2</td>\n",
       "      <td>0</td>\n",
       "      <td>T=1e1,r=0.005,max_attempts=10</td>\n",
       "      <td>SA</td>\n",
       "      <td>800</td>\n",
       "    </tr>\n",
       "    <tr>\n",
       "      <th>3</th>\n",
       "      <td>406.0</td>\n",
       "      <td>3</td>\n",
       "      <td>0</td>\n",
       "      <td>T=1e1,r=0.005,max_attempts=10</td>\n",
       "      <td>SA</td>\n",
       "      <td>800</td>\n",
       "    </tr>\n",
       "    <tr>\n",
       "      <th>4</th>\n",
       "      <td>408.0</td>\n",
       "      <td>4</td>\n",
       "      <td>0</td>\n",
       "      <td>T=1e1,r=0.005,max_attempts=10</td>\n",
       "      <td>SA</td>\n",
       "      <td>800</td>\n",
       "    </tr>\n",
       "    <tr>\n",
       "      <th>4995</th>\n",
       "      <td>571.0</td>\n",
       "      <td>4995</td>\n",
       "      <td>9</td>\n",
       "      <td>T=1e2,r=0.001,max_attempts=10</td>\n",
       "      <td>SA</td>\n",
       "      <td>800</td>\n",
       "    </tr>\n",
       "    <tr>\n",
       "      <th>4996</th>\n",
       "      <td>569.0</td>\n",
       "      <td>4996</td>\n",
       "      <td>9</td>\n",
       "      <td>T=1e2,r=0.001,max_attempts=10</td>\n",
       "      <td>SA</td>\n",
       "      <td>800</td>\n",
       "    </tr>\n",
       "    <tr>\n",
       "      <th>4997</th>\n",
       "      <td>569.0</td>\n",
       "      <td>4997</td>\n",
       "      <td>9</td>\n",
       "      <td>T=1e2,r=0.001,max_attempts=10</td>\n",
       "      <td>SA</td>\n",
       "      <td>800</td>\n",
       "    </tr>\n",
       "    <tr>\n",
       "      <th>4998</th>\n",
       "      <td>569.0</td>\n",
       "      <td>4998</td>\n",
       "      <td>9</td>\n",
       "      <td>T=1e2,r=0.001,max_attempts=10</td>\n",
       "      <td>SA</td>\n",
       "      <td>800</td>\n",
       "    </tr>\n",
       "    <tr>\n",
       "      <th>4999</th>\n",
       "      <td>569.0</td>\n",
       "      <td>4999</td>\n",
       "      <td>9</td>\n",
       "      <td>T=1e2,r=0.001,max_attempts=10</td>\n",
       "      <td>SA</td>\n",
       "      <td>800</td>\n",
       "    </tr>\n",
       "  </tbody>\n",
       "</table>\n",
       "</div>"
      ],
      "text/plain": [
       "      fitness  iter  try                          hyper  RO    N\n",
       "0       404.0     0    0  T=1e1,r=0.005,max_attempts=10  SA  800\n",
       "1       404.0     1    0  T=1e1,r=0.005,max_attempts=10  SA  800\n",
       "2       406.0     2    0  T=1e1,r=0.005,max_attempts=10  SA  800\n",
       "3       406.0     3    0  T=1e1,r=0.005,max_attempts=10  SA  800\n",
       "4       408.0     4    0  T=1e1,r=0.005,max_attempts=10  SA  800\n",
       "4995    571.0  4995    9  T=1e2,r=0.001,max_attempts=10  SA  800\n",
       "4996    569.0  4996    9  T=1e2,r=0.001,max_attempts=10  SA  800\n",
       "4997    569.0  4997    9  T=1e2,r=0.001,max_attempts=10  SA  800\n",
       "4998    569.0  4998    9  T=1e2,r=0.001,max_attempts=10  SA  800\n",
       "4999    569.0  4999    9  T=1e2,r=0.001,max_attempts=10  SA  800"
      ]
     },
     "metadata": {},
     "output_type": "display_data"
    }
   ],
   "source": [
    "df_fitness_curve = pd.concat(df_fitness_curve_list)\n",
    "ht(df_fitness_curve)"
   ]
  },
  {
   "cell_type": "code",
   "execution_count": 28,
   "metadata": {},
   "outputs": [
    {
     "data": {
      "text/plain": [
       "Text(0.5, 1.0, 'FlipFlop SA HP tuning')"
      ]
     },
     "execution_count": 28,
     "metadata": {},
     "output_type": "execute_result"
    },
    {
     "data": {
      "image/png": "[encoded data removed]",
      "text/plain": [
       "<Figure size 576x396 with 1 Axes>"
      ]
     },
     "metadata": {},
     "output_type": "display_data"
    }
   ],
   "source": [
    "sns.lineplot(data=df_fitness_curve.reset_index(), x=\"iter\", y=\"fitness\", hue=\"hyper\", ci=None).set_title('FlipFlop SA HP tuning')"
   ]
  },
  {
   "cell_type": "markdown",
   "metadata": {
    "tags": []
   },
   "source": [
    "#### MIMIC"
   ]
  },
  {
   "cell_type": "code",
   "execution_count": 29,
   "metadata": {},
   "outputs": [],
   "source": [
    "df_fitness_curve_list = []"
   ]
  },
  {
   "cell_type": "code",
   "execution_count": 30,
   "metadata": {},
   "outputs": [
    {
     "name": "stdout",
     "output_type": "stream",
     "text": [
      "694.0\n",
      "73.67190146446228\n"
     ]
    }
   ],
   "source": [
    "best_fitness_list, wall_clock_time_list = MIMIC_HP(pop_size='200', keep_pct='0.2', max_attempts='10', N=N, random_seed_list=[random_seed])\n",
    "best_fitness = sum(best_fitness_list) / len(best_fitness_list)\n",
    "print(best_fitness)\n",
    "wall_clock_time = sum(wall_clock_time_list) / len(wall_clock_time_list)\n",
    "print(wall_clock_time)"
   ]
  },
  {
   "cell_type": "code",
   "execution_count": 31,
   "metadata": {},
   "outputs": [
    {
     "name": "stdout",
     "output_type": "stream",
     "text": [
      "688.0\n",
      "92.55895972251892\n"
     ]
    }
   ],
   "source": [
    "best_fitness_list, wall_clock_time_list = MIMIC_HP(pop_size='200', keep_pct='0.3', max_attempts='10', N=N, random_seed_list=[random_seed])\n",
    "best_fitness = sum(best_fitness_list) / len(best_fitness_list)\n",
    "print(best_fitness)\n",
    "wall_clock_time = sum(wall_clock_time_list) / len(wall_clock_time_list)\n",
    "print(wall_clock_time)"
   ]
  },
  {
   "cell_type": "code",
   "execution_count": 32,
   "metadata": {},
   "outputs": [
    {
     "name": "stdout",
     "output_type": "stream",
     "text": [
      "689.0\n",
      "157.36524486541748\n"
     ]
    }
   ],
   "source": [
    "best_fitness_list, wall_clock_time_list = MIMIC_HP(pop_size='200', keep_pct='0.4', max_attempts='10', N=N, random_seed_list=[random_seed])\n",
    "best_fitness = sum(best_fitness_list) / len(best_fitness_list)\n",
    "print(best_fitness)\n",
    "wall_clock_time = sum(wall_clock_time_list) / len(wall_clock_time_list)\n",
    "print(wall_clock_time)"
   ]
  },
  {
   "cell_type": "code",
   "execution_count": 33,
   "metadata": {},
   "outputs": [
    {
     "name": "stdout",
     "output_type": "stream",
     "text": [
      "635.0\n",
      "41.37972378730774\n"
     ]
    }
   ],
   "source": [
    "best_fitness_list, wall_clock_time_list = MIMIC_HP(pop_size='100', keep_pct='0.3', max_attempts='10', N=N, random_seed_list=[random_seed])\n",
    "best_fitness = sum(best_fitness_list) / len(best_fitness_list)\n",
    "print(best_fitness)\n",
    "wall_clock_time = sum(wall_clock_time_list) / len(wall_clock_time_list)\n",
    "print(wall_clock_time)"
   ]
  },
  {
   "cell_type": "code",
   "execution_count": 34,
   "metadata": {},
   "outputs": [
    {
     "name": "stdout",
     "output_type": "stream",
     "text": [
      "712.0\n",
      "210.6544156074524\n"
     ]
    }
   ],
   "source": [
    "best_fitness_list, wall_clock_time_list = MIMIC_HP(pop_size='400', keep_pct='0.3', max_attempts='10', N=N, random_seed_list=[random_seed])\n",
    "best_fitness = sum(best_fitness_list) / len(best_fitness_list)\n",
    "print(best_fitness)\n",
    "wall_clock_time = sum(wall_clock_time_list) / len(wall_clock_time_list)\n",
    "print(wall_clock_time)"
   ]
  },
  {
   "cell_type": "code",
   "execution_count": 35,
   "metadata": {
    "scrolled": true
   },
   "outputs": [
    {
     "name": "stdout",
     "output_type": "stream",
     "text": [
      "(316, 6)\n"
     ]
    },
    {
     "data": {
      "text/html": [
       "<div>\n",
       "<style scoped>\n",
       "    .dataframe tbody tr th:only-of-type {\n",
       "        vertical-align: middle;\n",
       "    }\n",
       "\n",
       "    .dataframe tbody tr th {\n",
       "        vertical-align: top;\n",
       "    }\n",
       "\n",
       "    .dataframe thead th {\n",
       "        text-align: right;\n",
       "    }\n",
       "</style>\n",
       "<table border=\"1\" class=\"dataframe\">\n",
       "  <thead>\n",
       "    <tr style=\"text-align: right;\">\n",
       "      <th></th>\n",
       "      <th>fitness</th>\n",
       "      <th>iter</th>\n",
       "      <th>try</th>\n",
       "      <th>hyper</th>\n",
       "      <th>RO</th>\n",
       "      <th>N</th>\n",
       "    </tr>\n",
       "  </thead>\n",
       "  <tbody>\n",
       "    <tr>\n",
       "      <th>0</th>\n",
       "      <td>441.0</td>\n",
       "      <td>0</td>\n",
       "      <td>0</td>\n",
       "      <td>pop_size=200,keep_pct=0.2,max_attempts=10</td>\n",
       "      <td>MIMIC</td>\n",
       "      <td>800</td>\n",
       "    </tr>\n",
       "    <tr>\n",
       "      <th>1</th>\n",
       "      <td>441.0</td>\n",
       "      <td>1</td>\n",
       "      <td>0</td>\n",
       "      <td>pop_size=200,keep_pct=0.2,max_attempts=10</td>\n",
       "      <td>MIMIC</td>\n",
       "      <td>800</td>\n",
       "    </tr>\n",
       "    <tr>\n",
       "      <th>2</th>\n",
       "      <td>447.0</td>\n",
       "      <td>2</td>\n",
       "      <td>0</td>\n",
       "      <td>pop_size=200,keep_pct=0.2,max_attempts=10</td>\n",
       "      <td>MIMIC</td>\n",
       "      <td>800</td>\n",
       "    </tr>\n",
       "    <tr>\n",
       "      <th>3</th>\n",
       "      <td>447.0</td>\n",
       "      <td>3</td>\n",
       "      <td>0</td>\n",
       "      <td>pop_size=200,keep_pct=0.2,max_attempts=10</td>\n",
       "      <td>MIMIC</td>\n",
       "      <td>800</td>\n",
       "    </tr>\n",
       "    <tr>\n",
       "      <th>4</th>\n",
       "      <td>460.0</td>\n",
       "      <td>4</td>\n",
       "      <td>0</td>\n",
       "      <td>pop_size=200,keep_pct=0.2,max_attempts=10</td>\n",
       "      <td>MIMIC</td>\n",
       "      <td>800</td>\n",
       "    </tr>\n",
       "    <tr>\n",
       "      <th>72</th>\n",
       "      <td>712.0</td>\n",
       "      <td>72</td>\n",
       "      <td>0</td>\n",
       "      <td>pop_size=400,keep_pct=0.3,max_attempts=10</td>\n",
       "      <td>MIMIC</td>\n",
       "      <td>800</td>\n",
       "    </tr>\n",
       "    <tr>\n",
       "      <th>73</th>\n",
       "      <td>712.0</td>\n",
       "      <td>73</td>\n",
       "      <td>0</td>\n",
       "      <td>pop_size=400,keep_pct=0.3,max_attempts=10</td>\n",
       "      <td>MIMIC</td>\n",
       "      <td>800</td>\n",
       "    </tr>\n",
       "    <tr>\n",
       "      <th>74</th>\n",
       "      <td>712.0</td>\n",
       "      <td>74</td>\n",
       "      <td>0</td>\n",
       "      <td>pop_size=400,keep_pct=0.3,max_attempts=10</td>\n",
       "      <td>MIMIC</td>\n",
       "      <td>800</td>\n",
       "    </tr>\n",
       "    <tr>\n",
       "      <th>75</th>\n",
       "      <td>712.0</td>\n",
       "      <td>75</td>\n",
       "      <td>0</td>\n",
       "      <td>pop_size=400,keep_pct=0.3,max_attempts=10</td>\n",
       "      <td>MIMIC</td>\n",
       "      <td>800</td>\n",
       "    </tr>\n",
       "    <tr>\n",
       "      <th>76</th>\n",
       "      <td>712.0</td>\n",
       "      <td>76</td>\n",
       "      <td>0</td>\n",
       "      <td>pop_size=400,keep_pct=0.3,max_attempts=10</td>\n",
       "      <td>MIMIC</td>\n",
       "      <td>800</td>\n",
       "    </tr>\n",
       "  </tbody>\n",
       "</table>\n",
       "</div>"
      ],
      "text/plain": [
       "    fitness  iter  try                                      hyper     RO    N\n",
       "0     441.0     0    0  pop_size=200,keep_pct=0.2,max_attempts=10  MIMIC  800\n",
       "1     441.0     1    0  pop_size=200,keep_pct=0.2,max_attempts=10  MIMIC  800\n",
       "2     447.0     2    0  pop_size=200,keep_pct=0.2,max_attempts=10  MIMIC  800\n",
       "3     447.0     3    0  pop_size=200,keep_pct=0.2,max_attempts=10  MIMIC  800\n",
       "4     460.0     4    0  pop_size=200,keep_pct=0.2,max_attempts=10  MIMIC  800\n",
       "72    712.0    72    0  pop_size=400,keep_pct=0.3,max_attempts=10  MIMIC  800\n",
       "73    712.0    73    0  pop_size=400,keep_pct=0.3,max_attempts=10  MIMIC  800\n",
       "74    712.0    74    0  pop_size=400,keep_pct=0.3,max_attempts=10  MIMIC  800\n",
       "75    712.0    75    0  pop_size=400,keep_pct=0.3,max_attempts=10  MIMIC  800\n",
       "76    712.0    76    0  pop_size=400,keep_pct=0.3,max_attempts=10  MIMIC  800"
      ]
     },
     "metadata": {},
     "output_type": "display_data"
    }
   ],
   "source": [
    "df_fitness_curve = pd.concat(df_fitness_curve_list)\n",
    "ht(df_fitness_curve)"
   ]
  },
  {
   "cell_type": "code",
   "execution_count": 36,
   "metadata": {},
   "outputs": [
    {
     "data": {
      "text/plain": [
       "Text(0.5, 1.0, 'FlipFlop MIMIC HP tuning')"
      ]
     },
     "execution_count": 36,
     "metadata": {},
     "output_type": "execute_result"
    },
    {
     "data": {
      "image/png": "[encoded data removed]",
      "text/plain": [
       "<Figure size 576x396 with 1 Axes>"
      ]
     },
     "metadata": {},
     "output_type": "display_data"
    }
   ],
   "source": [
    "sns.lineplot(data=df_fitness_curve.reset_index(), x=\"iter\", y=\"fitness\", hue=\"hyper\", ci=None).set_title('FlipFlop MIMIC HP tuning')"
   ]
  },
  {
   "cell_type": "markdown",
   "metadata": {
    "jp-MarkdownHeadingCollapsed": true,
    "tags": []
   },
   "source": [
    "#### GA"
   ]
  },
  {
   "cell_type": "code",
   "execution_count": 37,
   "metadata": {},
   "outputs": [],
   "source": [
    "df_fitness_curve_list = []"
   ]
  },
  {
   "cell_type": "code",
   "execution_count": 38,
   "metadata": {},
   "outputs": [
    {
     "name": "stdout",
     "output_type": "stream",
     "text": [
      "451.0\n",
      "2.4775039672851564\n"
     ]
    }
   ],
   "source": [
    "best_fitness_list, wall_clock_time_list = GA_HP(pop_size='200', mut_prob='0.1', max_attempts='10', N=N)\n",
    "best_fitness = sum(best_fitness_list) / len(best_fitness_list)\n",
    "print(best_fitness)\n",
    "wall_clock_time = sum(wall_clock_time_list) / len(wall_clock_time_list)\n",
    "print(wall_clock_time)"
   ]
  },
  {
   "cell_type": "code",
   "execution_count": 39,
   "metadata": {},
   "outputs": [
    {
     "name": "stdout",
     "output_type": "stream",
     "text": [
      "452.9\n",
      "3.902250385284424\n"
     ]
    }
   ],
   "source": [
    "best_fitness_list, wall_clock_time_list = GA_HP(pop_size='400', mut_prob='0.1', max_attempts='10', N=N)\n",
    "best_fitness = sum(best_fitness_list) / len(best_fitness_list)\n",
    "print(best_fitness)\n",
    "wall_clock_time = sum(wall_clock_time_list) / len(wall_clock_time_list)\n",
    "print(wall_clock_time)"
   ]
  },
  {
   "cell_type": "code",
   "execution_count": 40,
   "metadata": {},
   "outputs": [
    {
     "name": "stdout",
     "output_type": "stream",
     "text": [
      "454.2\n",
      "5.635059666633606\n"
     ]
    }
   ],
   "source": [
    "best_fitness_list, wall_clock_time_list = GA_HP(pop_size='400', mut_prob='0.2', max_attempts='10', N=N)\n",
    "best_fitness = sum(best_fitness_list) / len(best_fitness_list)\n",
    "print(best_fitness)\n",
    "wall_clock_time = sum(wall_clock_time_list) / len(wall_clock_time_list)\n",
    "print(wall_clock_time)"
   ]
  },
  {
   "cell_type": "code",
   "execution_count": 41,
   "metadata": {},
   "outputs": [
    {
     "name": "stdout",
     "output_type": "stream",
     "text": [
      "452.1\n",
      "6.085989761352539\n"
     ]
    }
   ],
   "source": [
    "best_fitness_list, wall_clock_time_list = GA_HP(pop_size='400', mut_prob='0.3', max_attempts='10', N=N)\n",
    "best_fitness = sum(best_fitness_list) / len(best_fitness_list)\n",
    "print(best_fitness)\n",
    "wall_clock_time = sum(wall_clock_time_list) / len(wall_clock_time_list)\n",
    "print(wall_clock_time)"
   ]
  },
  {
   "cell_type": "code",
   "execution_count": 42,
   "metadata": {
    "scrolled": true
   },
   "outputs": [
    {
     "name": "stdout",
     "output_type": "stream",
     "text": [
      "(708, 6)\n"
     ]
    },
    {
     "data": {
      "text/html": [
       "<div>\n",
       "<style scoped>\n",
       "    .dataframe tbody tr th:only-of-type {\n",
       "        vertical-align: middle;\n",
       "    }\n",
       "\n",
       "    .dataframe tbody tr th {\n",
       "        vertical-align: top;\n",
       "    }\n",
       "\n",
       "    .dataframe thead th {\n",
       "        text-align: right;\n",
       "    }\n",
       "</style>\n",
       "<table border=\"1\" class=\"dataframe\">\n",
       "  <thead>\n",
       "    <tr style=\"text-align: right;\">\n",
       "      <th></th>\n",
       "      <th>fitness</th>\n",
       "      <th>iter</th>\n",
       "      <th>try</th>\n",
       "      <th>hyper</th>\n",
       "      <th>RO</th>\n",
       "      <th>N</th>\n",
       "    </tr>\n",
       "  </thead>\n",
       "  <tbody>\n",
       "    <tr>\n",
       "      <th>0</th>\n",
       "      <td>434.0</td>\n",
       "      <td>0</td>\n",
       "      <td>0</td>\n",
       "      <td>pop_size=200,mut_prob=0.1,max_attempts=10</td>\n",
       "      <td>GA</td>\n",
       "      <td>800</td>\n",
       "    </tr>\n",
       "    <tr>\n",
       "      <th>1</th>\n",
       "      <td>434.0</td>\n",
       "      <td>1</td>\n",
       "      <td>0</td>\n",
       "      <td>pop_size=200,mut_prob=0.1,max_attempts=10</td>\n",
       "      <td>GA</td>\n",
       "      <td>800</td>\n",
       "    </tr>\n",
       "    <tr>\n",
       "      <th>2</th>\n",
       "      <td>434.0</td>\n",
       "      <td>2</td>\n",
       "      <td>0</td>\n",
       "      <td>pop_size=200,mut_prob=0.1,max_attempts=10</td>\n",
       "      <td>GA</td>\n",
       "      <td>800</td>\n",
       "    </tr>\n",
       "    <tr>\n",
       "      <th>3</th>\n",
       "      <td>434.0</td>\n",
       "      <td>3</td>\n",
       "      <td>0</td>\n",
       "      <td>pop_size=200,mut_prob=0.1,max_attempts=10</td>\n",
       "      <td>GA</td>\n",
       "      <td>800</td>\n",
       "    </tr>\n",
       "    <tr>\n",
       "      <th>4</th>\n",
       "      <td>435.0</td>\n",
       "      <td>4</td>\n",
       "      <td>0</td>\n",
       "      <td>pop_size=200,mut_prob=0.1,max_attempts=10</td>\n",
       "      <td>GA</td>\n",
       "      <td>800</td>\n",
       "    </tr>\n",
       "    <tr>\n",
       "      <th>17</th>\n",
       "      <td>452.0</td>\n",
       "      <td>17</td>\n",
       "      <td>9</td>\n",
       "      <td>pop_size=400,mut_prob=0.3,max_attempts=10</td>\n",
       "      <td>GA</td>\n",
       "      <td>800</td>\n",
       "    </tr>\n",
       "    <tr>\n",
       "      <th>18</th>\n",
       "      <td>452.0</td>\n",
       "      <td>18</td>\n",
       "      <td>9</td>\n",
       "      <td>pop_size=400,mut_prob=0.3,max_attempts=10</td>\n",
       "      <td>GA</td>\n",
       "      <td>800</td>\n",
       "    </tr>\n",
       "    <tr>\n",
       "      <th>19</th>\n",
       "      <td>452.0</td>\n",
       "      <td>19</td>\n",
       "      <td>9</td>\n",
       "      <td>pop_size=400,mut_prob=0.3,max_attempts=10</td>\n",
       "      <td>GA</td>\n",
       "      <td>800</td>\n",
       "    </tr>\n",
       "    <tr>\n",
       "      <th>20</th>\n",
       "      <td>452.0</td>\n",
       "      <td>20</td>\n",
       "      <td>9</td>\n",
       "      <td>pop_size=400,mut_prob=0.3,max_attempts=10</td>\n",
       "      <td>GA</td>\n",
       "      <td>800</td>\n",
       "    </tr>\n",
       "    <tr>\n",
       "      <th>21</th>\n",
       "      <td>452.0</td>\n",
       "      <td>21</td>\n",
       "      <td>9</td>\n",
       "      <td>pop_size=400,mut_prob=0.3,max_attempts=10</td>\n",
       "      <td>GA</td>\n",
       "      <td>800</td>\n",
       "    </tr>\n",
       "  </tbody>\n",
       "</table>\n",
       "</div>"
      ],
      "text/plain": [
       "    fitness  iter  try                                      hyper  RO    N\n",
       "0     434.0     0    0  pop_size=200,mut_prob=0.1,max_attempts=10  GA  800\n",
       "1     434.0     1    0  pop_size=200,mut_prob=0.1,max_attempts=10  GA  800\n",
       "2     434.0     2    0  pop_size=200,mut_prob=0.1,max_attempts=10  GA  800\n",
       "3     434.0     3    0  pop_size=200,mut_prob=0.1,max_attempts=10  GA  800\n",
       "4     435.0     4    0  pop_size=200,mut_prob=0.1,max_attempts=10  GA  800\n",
       "17    452.0    17    9  pop_size=400,mut_prob=0.3,max_attempts=10  GA  800\n",
       "18    452.0    18    9  pop_size=400,mut_prob=0.3,max_attempts=10  GA  800\n",
       "19    452.0    19    9  pop_size=400,mut_prob=0.3,max_attempts=10  GA  800\n",
       "20    452.0    20    9  pop_size=400,mut_prob=0.3,max_attempts=10  GA  800\n",
       "21    452.0    21    9  pop_size=400,mut_prob=0.3,max_attempts=10  GA  800"
      ]
     },
     "metadata": {},
     "output_type": "display_data"
    }
   ],
   "source": [
    "df_fitness_curve = pd.concat(df_fitness_curve_list)\n",
    "ht(df_fitness_curve)"
   ]
  },
  {
   "cell_type": "code",
   "execution_count": 43,
   "metadata": {},
   "outputs": [
    {
     "data": {
      "text/plain": [
       "Text(0.5, 1.0, 'FlipFlop GA HP tuning')"
      ]
     },
     "execution_count": 43,
     "metadata": {},
     "output_type": "execute_result"
    },
    {
     "data": {
      "image/png": "[encoded data removed]",
      "text/plain": [
       "<Figure size 576x396 with 1 Axes>"
      ]
     },
     "metadata": {},
     "output_type": "display_data"
    }
   ],
   "source": [
    "sns.lineplot(data=df_fitness_curve.reset_index(), x=\"iter\", y=\"fitness\", hue=\"hyper\", ci=None).set_title('FlipFlop GA HP tuning')"
   ]
  },
  {
   "cell_type": "markdown",
   "metadata": {
    "tags": []
   },
   "source": [
    "#### Problem Size"
   ]
  },
  {
   "cell_type": "code",
   "execution_count": 44,
   "metadata": {},
   "outputs": [],
   "source": [
    "df_fitness_curve_list = []\n",
    "df_result_list = []"
   ]
  },
  {
   "cell_type": "code",
   "execution_count": 45,
   "metadata": {},
   "outputs": [],
   "source": [
    "fitness = mlrose.FlipFlop()"
   ]
  },
  {
   "cell_type": "code",
   "execution_count": 46,
   "metadata": {
    "scrolled": true
   },
   "outputs": [
    {
     "name": "stdout",
     "output_type": "stream",
     "text": [
      "N 200\n",
      "RHC\n",
      "114.9\n",
      "0.002716946601867676\n",
      "SA\n",
      "161.7\n",
      "0.10980477333068847\n",
      "GA\n",
      "126.3\n",
      "1.8392793655395507\n",
      "MIMIC\n",
      "180.0\n",
      "9.931608438491821\n",
      "N 400\n",
      "RHC\n",
      "222.5\n",
      "0.007168388366699219\n",
      "SA\n",
      "324.3\n",
      "0.27025208473205564\n",
      "GA\n",
      "236.3\n",
      "3.0523461580276487\n",
      "MIMIC\n",
      "359.0\n",
      "45.76145815849304\n",
      "N 600\n",
      "RHC\n",
      "327.0\n",
      "0.012496209144592286\n",
      "SA\n",
      "464.4\n",
      "0.41818962097167967\n",
      "GA\n",
      "346.1\n",
      "4.344310760498047\n",
      "MIMIC\n",
      "535.0\n",
      "145.10891699790955\n",
      "N 800\n",
      "RHC\n",
      "421.9\n",
      "0.014692234992980956\n",
      "SA\n"
     ]
    },
    {
     "name": "stderr",
     "output_type": "stream",
     "text": [
      "/home/ceres-v2/miniconda3/envs/AI/lib/python3.9/site-packages/mlrose/algorithms.py:311: RuntimeWarning: overflow encountered in exp\n",
      "  prob = np.exp(delta_e/temp)\n"
     ]
    },
    {
     "name": "stdout",
     "output_type": "stream",
     "text": [
      "629.8\n",
      "0.6856448650360107\n",
      "GA\n",
      "454.2\n",
      "5.602321362495422\n",
      "MIMIC\n",
      "712.0\n",
      "214.78609085083008\n"
     ]
    }
   ],
   "source": [
    "for N in [200, 400, 600, 800]:\n",
    "    print('N', N)\n",
    "    np.random.seed(random_seed_list[-1])\n",
    "    init_state = np.random.randint(low = 0, high = 2, size = N)\n",
    "    problem = mlrose.DiscreteOpt(length = N, fitness_fn = fitness, maximize = True, max_val = 2)\n",
    "    \n",
    "    print('RHC')\n",
    "    best_fitness_list, wall_clock_time_list = RHC_HP(restarts='0', max_attempts='10', N=N)\n",
    "    best_fitness = sum(best_fitness_list) / len(best_fitness_list)\n",
    "    print(best_fitness)\n",
    "    wall_clock_time = sum(wall_clock_time_list) / len(wall_clock_time_list)\n",
    "    print(wall_clock_time)    \n",
    "    df_fitness_curve = pd.concat(df_fitness_curve_list)\n",
    "    df_result_list.append(DataFrame({'RO': 'RHC', 'N': N, 'best_fitness': best_fitness, 'wall_clock_time': wall_clock_time, 'max_iter': df_fitness_curve[(df_fitness_curve['RO']=='RHC')&(df_fitness_curve['N']==N)].groupby('try')['iter'].max().mean()}, index=['N']))\n",
    "    \n",
    "    print('SA')\n",
    "    best_fitness_list, wall_clock_time_list = SA_HP(init_temp='1e1', exp_const='0.005', max_attempts='10', N=N)\n",
    "    best_fitness = sum(best_fitness_list) / len(best_fitness_list)\n",
    "    print(best_fitness)\n",
    "    wall_clock_time = sum(wall_clock_time_list) / len(wall_clock_time_list)\n",
    "    print(wall_clock_time)\n",
    "    df_fitness_curve = pd.concat(df_fitness_curve_list)\n",
    "    df_result_list.append(DataFrame({'RO': 'SA', 'N': N, 'best_fitness': best_fitness, 'wall_clock_time': wall_clock_time, 'max_iter': df_fitness_curve[(df_fitness_curve['RO']=='SA')&(df_fitness_curve['N']==N)].groupby('try')['iter'].max().mean()}, index=['N']))\n",
    "    \n",
    "    print('GA')\n",
    "    best_fitness_list, wall_clock_time_list = GA_HP(pop_size='400', mut_prob='0.2', max_attempts='10', N=N)\n",
    "    best_fitness = sum(best_fitness_list) / len(best_fitness_list)\n",
    "    print(best_fitness)\n",
    "    wall_clock_time = sum(wall_clock_time_list) / len(wall_clock_time_list)\n",
    "    print(wall_clock_time)\n",
    "    df_fitness_curve = pd.concat(df_fitness_curve_list)\n",
    "    df_result_list.append(DataFrame({'RO': 'GA', 'N': N, 'best_fitness': best_fitness, 'wall_clock_time': wall_clock_time, 'max_iter': df_fitness_curve[(df_fitness_curve['RO']=='GA')&(df_fitness_curve['N']==N)].groupby('try')['iter'].max().mean()}, index=['N']))\n",
    "    \n",
    "    print('MIMIC')\n",
    "    best_fitness_list, wall_clock_time_list = MIMIC_HP(pop_size='400', keep_pct='0.3', max_attempts='10', N=N, random_seed_list=[random_seed])\n",
    "    best_fitness = sum(best_fitness_list) / len(best_fitness_list)\n",
    "    print(best_fitness)\n",
    "    wall_clock_time = sum(wall_clock_time_list) / len(wall_clock_time_list)\n",
    "    print(wall_clock_time)\n",
    "    df_fitness_curve = pd.concat(df_fitness_curve_list)\n",
    "    df_result_list.append(DataFrame({'RO': 'MIMIC', 'N': N, 'best_fitness': best_fitness, 'wall_clock_time': wall_clock_time, 'max_iter': df_fitness_curve[(df_fitness_curve['RO']=='MIMIC')&(df_fitness_curve['N']==N)].groupby('try')['iter'].max().mean()}, index=['N']))"
   ]
  },
  {
   "cell_type": "code",
   "execution_count": 47,
   "metadata": {},
   "outputs": [
    {
     "data": {
      "text/plain": [
       "Text(0.5, 1.0, 'FlipFlop 4 ROs N=800')"
      ]
     },
     "execution_count": 47,
     "metadata": {},
     "output_type": "execute_result"
    },
    {
     "data": {
      "image/png": "[encoded data removed]",
      "text/plain": [
       "<Figure size 576x396 with 1 Axes>"
      ]
     },
     "metadata": {},
     "output_type": "display_data"
    }
   ],
   "source": [
    "sns.lineplot(data=df_fitness_curve[df_fitness_curve['N']==800].reset_index(), x=\"iter\", y=\"fitness\", hue=\"RO\", ci=None).set_title('FlipFlop 4 ROs N=800')"
   ]
  },
  {
   "cell_type": "code",
   "execution_count": 48,
   "metadata": {},
   "outputs": [],
   "source": [
    "df_result = pd.concat(df_result_list)\n",
    "df_result['best_fitness'] = 1 / df_result['best_fitness']"
   ]
  },
  {
   "cell_type": "code",
   "execution_count": 49,
   "metadata": {},
   "outputs": [
    {
     "data": {
      "image/png": "[encoded data removed]",
      "text/plain": [
       "<Figure size 576x396 with 1 Axes>"
      ]
     },
     "metadata": {},
     "output_type": "display_data"
    }
   ],
   "source": [
    "ax = sns.lineplot(data=df_result.reset_index(), x=\"N\", y=\"best_fitness\", hue=\"RO\", marker='o')\n",
    "ax.set(yscale='log')\n",
    "ax.set_title('FlipFlop fitness V.S. size')\n",
    "plt.show();"
   ]
  },
  {
   "cell_type": "code",
   "execution_count": 50,
   "metadata": {},
   "outputs": [
    {
     "data": {
      "image/png": "[encoded data removed]",
      "text/plain": [
       "<Figure size 576x396 with 1 Axes>"
      ]
     },
     "metadata": {},
     "output_type": "display_data"
    }
   ],
   "source": [
    "ax = sns.lineplot(data=df_result.reset_index(), x=\"N\", y=\"wall_clock_time\", hue=\"RO\", marker='o')\n",
    "# ax.set(yscale='log')\n",
    "ax.set_title('FlipFlop wall_time V.S. size')\n",
    "plt.show();"
   ]
  },
  {
   "cell_type": "code",
   "execution_count": 51,
   "metadata": {},
   "outputs": [
    {
     "data": {
      "image/png": "[encoded data removed]",
      "text/plain": [
       "<Figure size 576x396 with 1 Axes>"
      ]
     },
     "metadata": {},
     "output_type": "display_data"
    }
   ],
   "source": [
    "ax = sns.lineplot(data=df_result.reset_index(), x=\"N\", y=\"max_iter\", hue=\"RO\", marker='o')\n",
    "# ax.set(yscale='log')\n",
    "ax.set_title('FlipFlop function_eval V.S. size')\n",
    "plt.show();"
   ]
  },
  {
   "cell_type": "code",
   "execution_count": null,
   "metadata": {},
   "outputs": [],
   "source": []
  },
  {
   "cell_type": "code",
   "execution_count": null,
   "metadata": {},
   "outputs": [],
   "source": []
  }
 ],
 "metadata": {
  "kernelspec": {
   "display_name": "Python 3 (ipykernel)",
   "language": "python",
   "name": "python3"
  },
  "language_info": {
   "codemirror_mode": {
    "name": "ipython",
    "version": 3
   },
   "file_extension": ".py",
   "mimetype": "text/x-python",
   "name": "python",
   "nbconvert_exporter": "python",
   "pygments_lexer": "ipython3",
   "version": "3.9.7"
  }
 },
 "nbformat": 4,
 "nbformat_minor": 4
}
